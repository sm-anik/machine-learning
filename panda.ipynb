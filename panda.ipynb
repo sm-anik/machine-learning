{
 "cells": [
  {
   "cell_type": "markdown",
   "id": "cc300812",
   "metadata": {},
   "source": [
    "# All pandas code "
   ]
  },
  {
   "cell_type": "code",
   "execution_count": 2,
   "id": "5d7a5648",
   "metadata": {},
   "outputs": [],
   "source": [
    "## import panda\n",
    "import pandas as pd\n"
   ]
  },
  {
   "cell_type": "code",
   "execution_count": 4,
   "id": "369405eb",
   "metadata": {},
   "outputs": [
    {
     "name": "stdout",
     "output_type": "stream",
     "text": [
      "     name     city\n",
      "0    anik  kushtia\n",
      "1  kowser  cumilla\n",
      "2   mayen  upashar\n",
      "3  shihab  rangpur\n"
     ]
    }
   ],
   "source": [
    "## convert a dataset into a pandas dataframe\n",
    "\n",
    "data={\n",
    "    \"name\": [\"anik\",\"kowser\",\"mayen\",\"shihab\"],\n",
    "    \"city\": [\"kushtia\",\"cumilla\",\"upashar\",\"rangpur\"]\n",
    "}\n",
    "mydata=pd.DataFrame(data)\n",
    "print(mydata)"
   ]
  },
  {
   "cell_type": "code",
   "execution_count": 90,
   "id": "e44fc8b7",
   "metadata": {},
   "outputs": [
    {
     "name": "stdout",
     "output_type": "stream",
     "text": [
      "     name     city  cgpa            org\n",
      "0    anik  kushtia  3.33           supa\n",
      "1  kowser  cumilla  3.25  science arena\n",
      "2   mayen  upashar  3.67         nongar\n",
      "3  shihab  rangpur  3.35      robo sust\n"
     ]
    }
   ],
   "source": [
    "## join two Dataframe with default primary key\n",
    "data2={\n",
    "    \"name\": [\"anik\",\"kowser\",\"mayen\",\"shihab\"],\n",
    "    \"cgpa\":[3.33,3.25,3.67,3.35],\n",
    "     \"org\":[\"supa\",\"science arena\",\"nongar\",\"robo sust\"]\n",
    "}\n",
    "mydata0= pd.DataFrame(data2)\n",
    "new_data= pd.merge(mydata,mydata0)\n",
    "print(new_data)\n",
    "\n",
    "## we can specified the primary key \n",
    "new_data=pd.merge(mydata,mydata0,on='name')\n"
   ]
  },
  {
   "cell_type": "code",
   "execution_count": 99,
   "id": "9f37222a",
   "metadata": {},
   "outputs": [
    {
     "data": {
      "text/plain": [
       "[1, 2, 3]"
      ]
     },
     "execution_count": 99,
     "metadata": {},
     "output_type": "execute_result"
    }
   ],
   "source": [
    "a"
   ]
  },
  {
   "cell_type": "code",
   "execution_count": 91,
   "id": "29b0c4ae",
   "metadata": {},
   "outputs": [
    {
     "name": "stdout",
     "output_type": "stream",
     "text": [
      "        name     city\n",
      "boy1    anik  kushtia\n",
      "boy2  kowser  cumilla\n",
      "boy3   mayen  upashar\n",
      "boy4  shihab  rangpur\n"
     ]
    }
   ],
   "source": [
    "## change the label\n",
    "mydata1=pd.DataFrame(data,index=[\"boy1\",\"boy2\",\"boy3\",\"boy4\"])\n",
    "print(mydata1)"
   ]
  },
  {
   "cell_type": "markdown",
   "id": "be2cab7f",
   "metadata": {},
   "source": [
    "# Data selection in DataFrame"
   ]
  },
  {
   "cell_type": "code",
   "execution_count": 19,
   "id": "37bd28f5",
   "metadata": {},
   "outputs": [
    {
     "name": "stdout",
     "output_type": "stream",
     "text": [
      "name     kowser\n",
      "city    cumilla\n",
      "Name: boy2, dtype: object\n",
      "cumilla\n",
      "        name     city\n",
      "boy2  kowser  cumilla\n",
      "boy3   mayen  upashar\n"
     ]
    }
   ],
   "source": [
    "## print a specified row\n",
    "print(mydata1.loc[\"boy2\"])\n",
    "\n",
    "## print a specified item by the position of row and column number\n",
    "\n",
    "print(mydata1.loc[\"boy2\"][\"city\"])\n",
    "\n",
    "## print some specified rows\n",
    "print(mydata1.loc[[\"boy2\",\"boy3\"]])\n",
    "\n"
   ]
  },
  {
   "cell_type": "code",
   "execution_count": 74,
   "id": "40738f04",
   "metadata": {},
   "outputs": [
    {
     "name": "stdout",
     "output_type": "stream",
     "text": [
      "        name     city\n",
      "boy1    anik  kushtia\n",
      "boy2  kowser  cumilla\n",
      "     name     city\n",
      "1  kowser  cumilla\n"
     ]
    }
   ],
   "source": [
    "## print specific row and column with putting those name\n",
    "print(mydata1.loc[['boy1','boy2']][['name','city']])\n",
    "\n",
    "## print specific column with condition\n",
    "print(mydata.loc[mydata.city=='cumilla',['name','city']])"
   ]
  },
  {
   "cell_type": "code",
   "execution_count": 77,
   "id": "3288f908",
   "metadata": {},
   "outputs": [
    {
     "name": "stdout",
     "output_type": "stream",
     "text": [
      "        name     city\n",
      "boy1    anik  kushtia\n",
      "boy2  kowser  cumilla\n",
      "boy3   mayen  upashar\n",
      "        name     city\n",
      "boy1    anik  kushtia\n",
      "boy2  kowser  cumilla\n"
     ]
    }
   ],
   "source": [
    "##without loc funcion, direct print values\n",
    "\n",
    "print(mydata1['boy1':'boy3'])\n",
    "\n",
    "# or we can we direct put the index value instead\n",
    "print(mydata1[0:2])\n"
   ]
  },
  {
   "cell_type": "code",
   "execution_count": 8,
   "id": "1d09940e",
   "metadata": {},
   "outputs": [
    {
     "name": "stdout",
     "output_type": "stream",
     "text": [
      "0    1\n",
      "1    2\n",
      "2    3\n",
      "dtype: int64\n"
     ]
    }
   ],
   "source": [
    "## create a series-------------->\n",
    "#A Pandas Series is like a column in a table.It is a one-dimensional array holding data of any type.\n",
    "a=[1,2,3]\n",
    "series_data=pd.Series(a)\n",
    "print(series_data)"
   ]
  },
  {
   "cell_type": "code",
   "execution_count": 9,
   "id": "b956f2c5",
   "metadata": {},
   "outputs": [
    {
     "name": "stdout",
     "output_type": "stream",
     "text": [
      "anik      1\n",
      "mayen     2\n",
      "shihab    3\n",
      "dtype: int64\n"
     ]
    }
   ],
   "source": [
    "##change the label\n",
    "series_data1=pd.Series(a,index=[\"anik\",\"mayen\",\"shihab\"])\n",
    "print(series_data1)"
   ]
  },
  {
   "cell_type": "code",
   "execution_count": 11,
   "id": "3daad781",
   "metadata": {},
   "outputs": [
    {
     "name": "stdout",
     "output_type": "stream",
     "text": [
      "2\n"
     ]
    }
   ],
   "source": [
    "## print a specific value of this series\n",
    "print(series_data1[\"mayen\"])"
   ]
  },
  {
   "cell_type": "markdown",
   "id": "98814557",
   "metadata": {},
   "source": [
    "# Loading file from the pc"
   ]
  },
  {
   "cell_type": "code",
   "execution_count": 23,
   "id": "e1c7ced7",
   "metadata": {},
   "outputs": [
    {
     "name": "stdout",
     "output_type": "stream",
     "text": [
      "     Rank      Country  Cost of Living Index  Rent Index  \\\n",
      "0       1  Switzerland                 101.1        46.5   \n",
      "1       2      Bahamas                  85.0        36.7   \n",
      "2       3      Iceland                  83.0        39.2   \n",
      "3       4    Singapore                  76.7        67.2   \n",
      "4       5     Barbados                  76.6        19.0   \n",
      "..    ...          ...                   ...         ...   \n",
      "116   117   Bangladesh                  22.5         2.4   \n",
      "117   118        India                  21.2         5.6   \n",
      "118   119        Egypt                  21.0         3.7   \n",
      "119   120        Libya                  20.4         4.3   \n",
      "120   121     Pakistan                  18.8         2.8   \n",
      "\n",
      "     Cost of Living Plus Rent Index  Groceries Index  Restaurant Price Index  \\\n",
      "0                              74.9            109.1                    97.0   \n",
      "1                              61.8             81.6                    83.3   \n",
      "2                              62.0             88.4                    86.8   \n",
      "3                              72.1             74.6                    50.4   \n",
      "4                              48.9             80.8                    69.4   \n",
      "..                              ...              ...                     ...   \n",
      "116                            12.8             25.7                    12.8   \n",
      "117                            13.7             23.8                    15.1   \n",
      "118                            12.7             21.2                    16.2   \n",
      "119                            12.7             22.2                    15.2   \n",
      "120                            11.1             17.5                    12.9   \n",
      "\n",
      "     Local Purchasing Power Index  \n",
      "0                           158.7  \n",
      "1                            54.6  \n",
      "2                           120.3  \n",
      "3                           111.1  \n",
      "4                            43.5  \n",
      "..                            ...  \n",
      "116                          33.1  \n",
      "117                          82.6  \n",
      "118                          20.0  \n",
      "119                          42.0  \n",
      "120                          29.1  \n",
      "\n",
      "[121 rows x 8 columns]\n"
     ]
    }
   ],
   "source": [
    "## loading the csv file\n",
    "df = pd.read_csv('F:\\poralekha\\programming\\python\\dataset\\CLD.csv')\n",
    "print(df)\n"
   ]
  },
  {
   "cell_type": "code",
   "execution_count": 25,
   "id": "b6bf6bcf",
   "metadata": {},
   "outputs": [
    {
     "name": "stdout",
     "output_type": "stream",
     "text": [
      "     Rank                      Country  Cost of Living Index  Rent Index  Cost of Living Plus Rent Index  Groceries Index  Restaurant Price Index  Local Purchasing Power Index\n",
      "0       1                  Switzerland                 101.1        46.5                            74.9            109.1                    97.0                         158.7\n",
      "1       2                      Bahamas                  85.0        36.7                            61.8             81.6                    83.3                          54.6\n",
      "2       3                      Iceland                  83.0        39.2                            62.0             88.4                    86.8                         120.3\n",
      "3       4                    Singapore                  76.7        67.2                            72.1             74.6                    50.4                         111.1\n",
      "4       5                     Barbados                  76.6        19.0                            48.9             80.8                    69.4                          43.5\n",
      "5       6                       Norway                  76.0        26.2                            52.1             79.0                    73.5                         114.7\n",
      "6       7                      Denmark                  72.3        26.4                            50.2             64.8                    81.3                         127.2\n",
      "7       8            Hong Kong (China)                  70.8        59.4                            65.3             84.6                    46.2                         109.3\n",
      "8       9                United States                  70.4        41.7                            56.6             75.0                    67.2                         142.3\n",
      "9      10                    Australia                  70.2        33.4                            52.5             77.3                    62.5                         127.4\n",
      "10     11                      Austria                  65.1        22.5                            44.7             66.4                    59.3                         102.4\n",
      "11     12                       Canada                  64.8        33.2                            49.6             71.2                    61.7                         103.7\n",
      "12     13                  New Zealand                  64.6        25.9                            46.0             71.9                    57.1                         121.0\n",
      "13     14                      Ireland                  64.4        42.3                            53.8             59.3                    65.3                         101.1\n",
      "14     15                       France                  63.7        21.0                            43.2             69.5                    56.3                         102.4\n",
      "15     16                  Puerto Rico                  63.3        19.5                            42.3             64.1                    53.1                         103.5\n",
      "16     17                      Finland                  63.2        19.7                            42.4             63.0                    63.6                         118.0\n",
      "17     18                  Netherlands                  63.1        33.5                            48.9             59.9                    61.2                         124.9\n",
      "18     19                       Israel                  62.7        27.1                            45.6             59.6                    68.0                          99.4\n",
      "19     20                   Luxembourg                  62.4        40.5                            51.9             64.1                    68.7                         182.5\n",
      "20     21                      Germany                  62.2        24.4                            44.0             60.8                    52.8                         120.2\n",
      "21     22               United Kingdom                  62.0        31.1                            47.1             56.9                    62.7                         115.2\n",
      "22     23                      Belgium                  61.1        20.1                            41.4             57.5                    66.0                         109.8\n",
      "23     24                  South Korea                  60.1        16.0                            38.9             81.4                    31.4                         109.4\n",
      "24     25                       Sweden                  59.3        20.9                            40.9             60.8                    54.7                         122.6\n",
      "25     26                        Italy                  56.2        19.2                            38.5             57.0                    53.3                          78.3\n",
      "26     27         United Arab Emirates                  55.8        41.3                            48.9             45.3                    49.2                         127.9\n",
      "27     28                       Cyprus                  54.7        24.8                            40.4             49.6                    53.2                          71.4\n",
      "28     29                      Uruguay                  54.1        13.8                            34.8             52.1                    50.2                          56.3\n",
      "29     30                      Jamaica                  53.9        14.1                            34.8             62.0                    38.8                          32.7\n",
      "30     31                        Malta                  52.8        24.2                            39.1             50.6                    56.2                          68.1\n",
      "31     32          Trinidad And Tobago                  52.6        13.1                            33.7             55.3                    43.9                          43.7\n",
      "32     33                   Costa Rica                  52.3        16.7                            35.2             56.1                    43.1                          46.2\n",
      "33     34                      Bahrain                  52.3        20.5                            37.0             46.9                    44.7                         105.0\n",
      "34     35                       Greece                  52.0        12.9                            33.2             48.4                    51.3                          53.0\n",
      "35     36                      Estonia                  52.0        15.0                            34.2             46.4                    50.6                          80.4\n",
      "36     37                        Qatar                  51.3        36.1                            44.0             43.9                    47.2                         161.1\n",
      "37     38                     Slovenia                  49.9        18.7                            34.9             49.0                    43.4                          80.9\n",
      "38     39                       Latvia                  49.1        11.2                            30.9             42.8                    44.9                          66.9\n",
      "39     40                        Spain                  47.3        22.9                            35.6             46.0                    44.1                          92.1\n",
      "40     41                    Lithuania                  47.1        15.6                            31.9             44.2                    43.5                          75.5\n",
      "41     42                     Slovakia                  46.7        14.8                            31.4             46.7                    34.5                          68.3\n",
      "42     43                         Cuba                  46.7        11.8                            29.9             43.0                    26.0                           2.3\n",
      "43     44               Czech Republic                  46.6        18.8                            33.3             44.4                    34.1                          84.0\n",
      "44     45                       Panama                  46.4        20.1                            33.8             48.3                    42.2                          42.2\n",
      "45     46                        Japan                  46.1        13.4                            30.4             53.7                    27.8                         117.0\n",
      "46     47                      Croatia                  45.5        13.8                            30.3             43.5                    42.2                          75.0\n",
      "47     48                 Saudi Arabia                  45.3        11.3                            29.0             41.6                    30.9                         134.9\n",
      "48     49                       Taiwan                  45.2        13.1                            29.8             60.1                    23.0                          95.1\n",
      "49     50                     Portugal                  45.1        24.0                            35.0             43.8                    36.9                          56.9\n",
      "50     51                         Oman                  42.4        12.2                            27.9             39.9                    33.1                         139.8\n",
      "51     52                       Kuwait                  42.1        22.6                            32.7             34.5                    36.4                         161.8\n",
      "52     53                      Albania                  42.1        10.6                            27.0             42.0                    35.7                          39.9\n",
      "53     54                      Lebanon                  41.8        13.4                            28.1             32.2                    37.1                          25.4\n",
      "54     55                      Hungary                  41.7        11.3                            27.1             39.8                    37.0                          63.4\n",
      "55     56                    Palestine                  41.6         8.0                            25.5             40.7                    27.4                          46.1\n",
      "56     57                       Jordan                  41.2         7.2                            24.9             37.1                    34.8                          45.5\n",
      "57     58                      Armenia                  41.0        19.0                            30.5             36.0                    38.9                          38.5\n",
      "58     59                       Poland                  40.8        17.1                            29.5             36.8                    35.0                          85.8\n",
      "59     60                       Mexico                  40.2        15.5                            28.4             43.4                    35.7                          45.4\n",
      "60     61                  El Salvador                  39.5        14.6                            27.6             43.4                    29.6                          31.9\n",
      "61     62                   Montenegro                  39.4        15.8                            28.1             36.7                    36.3                          52.9\n",
      "62     63                        Chile                  39.1        11.1                            25.7             41.6                    34.8                          45.1\n",
      "63     64                    Guatemala                  38.8        12.6                            26.3             41.8                    31.1                          34.5\n",
      "64     65                    Venezuela                  38.3         5.8                            22.7             39.5                    37.7                          14.7\n",
      "65     66                     Bulgaria                  38.3        10.3                            24.9             38.2                    34.7                          68.4\n",
      "66     67           Dominican Republic                  37.9        10.6                            24.8             37.6                    33.1                          28.7\n",
      "67     68                       Serbia                  37.7        12.4                            25.6             36.0                    31.2                          50.2\n",
      "68     69                      Romania                  37.5         9.9                            24.2             36.6                    35.5                          63.8\n",
      "69     70                       Turkey                  37.4        13.2                            25.8             37.6                    30.7                          49.0\n",
      "70     71                     Cambodia                  37.3         9.6                            24.0             43.5                    22.7                          23.9\n",
      "71     72                     Cameroon                  37.3        16.9                            27.5             34.6                    35.3                          10.5\n",
      "72     73                     Zimbabwe                  37.2        10.0                            24.1             35.5                    26.7                          26.1\n",
      "73     74                    Mauritius                  37.1        10.0                            24.1             40.7                    26.5                          43.2\n",
      "74     75                         Fiji                  35.4        15.3                            25.8             43.7                    28.4                          68.0\n",
      "75     76       Bosnia And Herzegovina                  35.0         6.2                            21.2             34.5                    22.4                          56.9\n",
      "76     77                    Sri Lanka                  34.6         5.6                            20.7             49.3                    18.5                          17.5\n",
      "77     78                 South Africa                  34.5        11.5                            23.5             29.7                    29.5                         102.8\n",
      "78     79                     Thailand                  34.1        11.2                            23.1             40.5                    18.3                          40.8\n",
      "79     80                      Moldova                  34.0        10.1                            22.5             31.6                    26.6                          46.6\n",
      "80     81                      Georgia                  33.4        13.7                            23.9             33.3                    31.6                          35.3\n",
      "81     82              North Macedonia                  33.0         6.5                            20.3             32.1                    22.1                          51.0\n",
      "82     83                      Ecuador                  32.6         8.6                            21.1             34.9                    24.5                          41.6\n",
      "83     84                   Kazakhstan                  31.7        12.3                            22.4             32.2                    28.7                          44.7\n",
      "84     85                        China                  31.7        12.3                            22.4             36.8                    20.6                          73.3\n",
      "85     86                      Nigeria                  31.4        22.1                            27.0             37.5                    20.6                          11.0\n",
      "86     87                   Azerbaijan                  31.2         8.7                            20.4             29.0                    31.8                          37.2\n",
      "87     88                  Philippines                  31.0         7.1                            19.6             35.0                    16.8                          33.3\n",
      "88     89                       Russia                  31.0        10.0                            20.9             28.8                    28.0                          50.6\n",
      "89     90                        Ghana                  30.9        10.2                            21.0             33.9                    26.9                          18.4\n",
      "90     91                       Brazil                  30.2         7.9                            19.5             29.5                    22.6                          37.2\n",
      "91     92                        Kenya                  30.2         8.5                            19.8             31.0                    22.1                          34.2\n",
      "92     93                     Botswana                  30.1         6.1                            18.5             30.0                    22.5                          64.4\n",
      "93     94                     Malaysia                  30.0         7.7                            19.3             36.3                    18.9                          79.9\n",
      "94     95                         Peru                  30.0         9.6                            20.2             31.5                    21.3                          34.8\n",
      "95     96                      Morocco                  29.5         7.4                            18.9             29.8                    20.7                          38.6\n",
      "96     97  Kosovo (Disputed Territory)                  29.5         7.7                            19.0             29.4                    20.6                          46.7\n",
      "97     98                    Argentina                  29.4         7.6                            18.9             29.7                    24.8                          41.5\n",
      "98     99                         Iraq                  29.3         7.6                            18.9             28.2                    20.9                          50.4\n",
      "99    100                       Uganda                  29.1         7.7                            18.8             29.3                    21.6                          17.8\n",
      "100   101                      Algeria                  28.9         3.8                            16.9             36.8                    14.0                          29.9\n",
      "101   102                     Colombia                  28.8         8.6                            19.1             30.3                    20.5                          33.7\n",
      "102   103                      Vietnam                  28.7         9.0                            19.2             33.9                    14.8                          40.5\n",
      "103   104                      Tunisia                  28.1         4.7                            16.9             31.4                    15.0                          32.2\n",
      "104   105                      Bolivia                  27.6         7.5                            18.0             27.0                    19.4                          37.9\n",
      "105   106                   Kyrgyzstan                  27.6        10.7                            19.5             28.2                    20.2                          30.7\n",
      "106   107                    Indonesia                  26.7         7.7                            17.6             33.4                    13.5                          31.7\n",
      "107   108                         Iran                  26.4         8.5                            17.8             22.0                    16.3                          26.0\n",
      "108   109                   Uzbekistan                  26.4        11.2                            19.1             28.4                    18.6                          39.3\n",
      "109   110                      Belarus                  26.4         8.3                            17.7             25.4                    24.9                          51.8\n",
      "110   111                      Ukraine                  25.9         7.6                            17.1             25.4                    20.7                          39.5\n",
      "111   112                        Nepal                  25.5         3.5                            15.0             25.6                    16.2                          25.4\n",
      "112   113                     Paraguay                  25.4         9.1                            17.6             24.0                    17.6                          34.6\n",
      "113   114                   Madagascar                  24.5         7.8                            16.5             24.1                    14.3                          15.6\n",
      "114   115                        Syria                  24.0         3.7                            14.2             24.5                    15.3                           5.5\n",
      "115   116                     Tanzania                  23.8         8.4                            16.4             25.4                    16.5                          25.9\n",
      "116   117                   Bangladesh                  22.5         2.4                            12.8             25.7                    12.8                          33.1\n",
      "117   118                        India                  21.2         5.6                            13.7             23.8                    15.1                          82.6\n",
      "118   119                        Egypt                  21.0         3.7                            12.7             21.2                    16.2                          20.0\n",
      "119   120                        Libya                  20.4         4.3                            12.7             22.2                    15.2                          42.0\n",
      "120   121                     Pakistan                  18.8         2.8                            11.1             17.5                    12.9                          29.1\n"
     ]
    }
   ],
   "source": [
    "## print the whole dataset------------>\n",
    "print(df.to_string())"
   ]
  },
  {
   "cell_type": "markdown",
   "id": "422e2d14",
   "metadata": {},
   "source": [
    "# Pandas - Analyzing DataFrames"
   ]
  },
  {
   "cell_type": "code",
   "execution_count": 26,
   "id": "354b1283",
   "metadata": {},
   "outputs": [
    {
     "name": "stdout",
     "output_type": "stream",
     "text": [
      "   Rank            Country  Cost of Living Index  Rent Index  \\\n",
      "0     1        Switzerland                 101.1        46.5   \n",
      "1     2            Bahamas                  85.0        36.7   \n",
      "2     3            Iceland                  83.0        39.2   \n",
      "3     4          Singapore                  76.7        67.2   \n",
      "4     5           Barbados                  76.6        19.0   \n",
      "5     6             Norway                  76.0        26.2   \n",
      "6     7            Denmark                  72.3        26.4   \n",
      "7     8  Hong Kong (China)                  70.8        59.4   \n",
      "8     9      United States                  70.4        41.7   \n",
      "9    10          Australia                  70.2        33.4   \n",
      "\n",
      "   Cost of Living Plus Rent Index  Groceries Index  Restaurant Price Index  \\\n",
      "0                            74.9            109.1                    97.0   \n",
      "1                            61.8             81.6                    83.3   \n",
      "2                            62.0             88.4                    86.8   \n",
      "3                            72.1             74.6                    50.4   \n",
      "4                            48.9             80.8                    69.4   \n",
      "5                            52.1             79.0                    73.5   \n",
      "6                            50.2             64.8                    81.3   \n",
      "7                            65.3             84.6                    46.2   \n",
      "8                            56.6             75.0                    67.2   \n",
      "9                            52.5             77.3                    62.5   \n",
      "\n",
      "   Local Purchasing Power Index  \n",
      "0                         158.7  \n",
      "1                          54.6  \n",
      "2                         120.3  \n",
      "3                         111.1  \n",
      "4                          43.5  \n",
      "5                         114.7  \n",
      "6                         127.2  \n",
      "7                         109.3  \n",
      "8                         142.3  \n",
      "9                         127.4  \n"
     ]
    }
   ],
   "source": [
    "## print first 10 rows\n",
    "\n",
    "print(df.head(10))"
   ]
  },
  {
   "cell_type": "code",
   "execution_count": 27,
   "id": "cc011625",
   "metadata": {},
   "outputs": [
    {
     "name": "stdout",
     "output_type": "stream",
     "text": [
      "     Rank     Country  Cost of Living Index  Rent Index  \\\n",
      "111   112       Nepal                  25.5         3.5   \n",
      "112   113    Paraguay                  25.4         9.1   \n",
      "113   114  Madagascar                  24.5         7.8   \n",
      "114   115       Syria                  24.0         3.7   \n",
      "115   116    Tanzania                  23.8         8.4   \n",
      "116   117  Bangladesh                  22.5         2.4   \n",
      "117   118       India                  21.2         5.6   \n",
      "118   119       Egypt                  21.0         3.7   \n",
      "119   120       Libya                  20.4         4.3   \n",
      "120   121    Pakistan                  18.8         2.8   \n",
      "\n",
      "     Cost of Living Plus Rent Index  Groceries Index  Restaurant Price Index  \\\n",
      "111                            15.0             25.6                    16.2   \n",
      "112                            17.6             24.0                    17.6   \n",
      "113                            16.5             24.1                    14.3   \n",
      "114                            14.2             24.5                    15.3   \n",
      "115                            16.4             25.4                    16.5   \n",
      "116                            12.8             25.7                    12.8   \n",
      "117                            13.7             23.8                    15.1   \n",
      "118                            12.7             21.2                    16.2   \n",
      "119                            12.7             22.2                    15.2   \n",
      "120                            11.1             17.5                    12.9   \n",
      "\n",
      "     Local Purchasing Power Index  \n",
      "111                          25.4  \n",
      "112                          34.6  \n",
      "113                          15.6  \n",
      "114                           5.5  \n",
      "115                          25.9  \n",
      "116                          33.1  \n",
      "117                          82.6  \n",
      "118                          20.0  \n",
      "119                          42.0  \n",
      "120                          29.1  \n"
     ]
    }
   ],
   "source": [
    "## print last 10 rows\n",
    "\n",
    "print(df.tail(10))"
   ]
  },
  {
   "cell_type": "code",
   "execution_count": 28,
   "id": "eba9f616",
   "metadata": {},
   "outputs": [
    {
     "name": "stdout",
     "output_type": "stream",
     "text": [
      "<class 'pandas.core.frame.DataFrame'>\n",
      "RangeIndex: 121 entries, 0 to 120\n",
      "Data columns (total 8 columns):\n",
      " #   Column                          Non-Null Count  Dtype  \n",
      "---  ------                          --------------  -----  \n",
      " 0   Rank                            121 non-null    int64  \n",
      " 1   Country                         121 non-null    object \n",
      " 2   Cost of Living Index            121 non-null    float64\n",
      " 3   Rent Index                      121 non-null    float64\n",
      " 4   Cost of Living Plus Rent Index  121 non-null    float64\n",
      " 5   Groceries Index                 121 non-null    float64\n",
      " 6   Restaurant Price Index          121 non-null    float64\n",
      " 7   Local Purchasing Power Index    121 non-null    float64\n",
      "dtypes: float64(6), int64(1), object(1)\n",
      "memory usage: 7.7+ KB\n",
      "None\n"
     ]
    }
   ],
   "source": [
    "## Print the information about the dataset\n",
    "\n",
    "print(df.info())"
   ]
  },
  {
   "cell_type": "markdown",
   "id": "f1856a6d",
   "metadata": {},
   "source": [
    "# Pandas - Cleaning Data"
   ]
  },
  {
   "cell_type": "code",
   "execution_count": 29,
   "id": "a6f93916",
   "metadata": {},
   "outputs": [
    {
     "name": "stdout",
     "output_type": "stream",
     "text": [
      "     Rank                      Country  Cost of Living Index  Rent Index  Cost of Living Plus Rent Index  Groceries Index  Restaurant Price Index  Local Purchasing Power Index\n",
      "0       1                  Switzerland                 101.1        46.5                            74.9            109.1                    97.0                         158.7\n",
      "1       2                      Bahamas                  85.0        36.7                            61.8             81.6                    83.3                          54.6\n",
      "2       3                      Iceland                  83.0        39.2                            62.0             88.4                    86.8                         120.3\n",
      "3       4                    Singapore                  76.7        67.2                            72.1             74.6                    50.4                         111.1\n",
      "4       5                     Barbados                  76.6        19.0                            48.9             80.8                    69.4                          43.5\n",
      "5       6                       Norway                  76.0        26.2                            52.1             79.0                    73.5                         114.7\n",
      "6       7                      Denmark                  72.3        26.4                            50.2             64.8                    81.3                         127.2\n",
      "7       8            Hong Kong (China)                  70.8        59.4                            65.3             84.6                    46.2                         109.3\n",
      "8       9                United States                  70.4        41.7                            56.6             75.0                    67.2                         142.3\n",
      "9      10                    Australia                  70.2        33.4                            52.5             77.3                    62.5                         127.4\n",
      "10     11                      Austria                  65.1        22.5                            44.7             66.4                    59.3                         102.4\n",
      "11     12                       Canada                  64.8        33.2                            49.6             71.2                    61.7                         103.7\n",
      "12     13                  New Zealand                  64.6        25.9                            46.0             71.9                    57.1                         121.0\n",
      "13     14                      Ireland                  64.4        42.3                            53.8             59.3                    65.3                         101.1\n",
      "14     15                       France                  63.7        21.0                            43.2             69.5                    56.3                         102.4\n",
      "15     16                  Puerto Rico                  63.3        19.5                            42.3             64.1                    53.1                         103.5\n",
      "16     17                      Finland                  63.2        19.7                            42.4             63.0                    63.6                         118.0\n",
      "17     18                  Netherlands                  63.1        33.5                            48.9             59.9                    61.2                         124.9\n",
      "18     19                       Israel                  62.7        27.1                            45.6             59.6                    68.0                          99.4\n",
      "19     20                   Luxembourg                  62.4        40.5                            51.9             64.1                    68.7                         182.5\n",
      "20     21                      Germany                  62.2        24.4                            44.0             60.8                    52.8                         120.2\n",
      "21     22               United Kingdom                  62.0        31.1                            47.1             56.9                    62.7                         115.2\n",
      "22     23                      Belgium                  61.1        20.1                            41.4             57.5                    66.0                         109.8\n",
      "23     24                  South Korea                  60.1        16.0                            38.9             81.4                    31.4                         109.4\n",
      "24     25                       Sweden                  59.3        20.9                            40.9             60.8                    54.7                         122.6\n",
      "25     26                        Italy                  56.2        19.2                            38.5             57.0                    53.3                          78.3\n",
      "26     27         United Arab Emirates                  55.8        41.3                            48.9             45.3                    49.2                         127.9\n",
      "27     28                       Cyprus                  54.7        24.8                            40.4             49.6                    53.2                          71.4\n",
      "28     29                      Uruguay                  54.1        13.8                            34.8             52.1                    50.2                          56.3\n",
      "29     30                      Jamaica                  53.9        14.1                            34.8             62.0                    38.8                          32.7\n",
      "30     31                        Malta                  52.8        24.2                            39.1             50.6                    56.2                          68.1\n",
      "31     32          Trinidad And Tobago                  52.6        13.1                            33.7             55.3                    43.9                          43.7\n",
      "32     33                   Costa Rica                  52.3        16.7                            35.2             56.1                    43.1                          46.2\n",
      "33     34                      Bahrain                  52.3        20.5                            37.0             46.9                    44.7                         105.0\n",
      "34     35                       Greece                  52.0        12.9                            33.2             48.4                    51.3                          53.0\n",
      "35     36                      Estonia                  52.0        15.0                            34.2             46.4                    50.6                          80.4\n",
      "36     37                        Qatar                  51.3        36.1                            44.0             43.9                    47.2                         161.1\n",
      "37     38                     Slovenia                  49.9        18.7                            34.9             49.0                    43.4                          80.9\n",
      "38     39                       Latvia                  49.1        11.2                            30.9             42.8                    44.9                          66.9\n",
      "39     40                        Spain                  47.3        22.9                            35.6             46.0                    44.1                          92.1\n",
      "40     41                    Lithuania                  47.1        15.6                            31.9             44.2                    43.5                          75.5\n",
      "41     42                     Slovakia                  46.7        14.8                            31.4             46.7                    34.5                          68.3\n",
      "42     43                         Cuba                  46.7        11.8                            29.9             43.0                    26.0                           2.3\n",
      "43     44               Czech Republic                  46.6        18.8                            33.3             44.4                    34.1                          84.0\n",
      "44     45                       Panama                  46.4        20.1                            33.8             48.3                    42.2                          42.2\n",
      "45     46                        Japan                  46.1        13.4                            30.4             53.7                    27.8                         117.0\n",
      "46     47                      Croatia                  45.5        13.8                            30.3             43.5                    42.2                          75.0\n",
      "47     48                 Saudi Arabia                  45.3        11.3                            29.0             41.6                    30.9                         134.9\n",
      "48     49                       Taiwan                  45.2        13.1                            29.8             60.1                    23.0                          95.1\n",
      "49     50                     Portugal                  45.1        24.0                            35.0             43.8                    36.9                          56.9\n",
      "50     51                         Oman                  42.4        12.2                            27.9             39.9                    33.1                         139.8\n",
      "51     52                       Kuwait                  42.1        22.6                            32.7             34.5                    36.4                         161.8\n",
      "52     53                      Albania                  42.1        10.6                            27.0             42.0                    35.7                          39.9\n",
      "53     54                      Lebanon                  41.8        13.4                            28.1             32.2                    37.1                          25.4\n",
      "54     55                      Hungary                  41.7        11.3                            27.1             39.8                    37.0                          63.4\n",
      "55     56                    Palestine                  41.6         8.0                            25.5             40.7                    27.4                          46.1\n",
      "56     57                       Jordan                  41.2         7.2                            24.9             37.1                    34.8                          45.5\n",
      "57     58                      Armenia                  41.0        19.0                            30.5             36.0                    38.9                          38.5\n",
      "58     59                       Poland                  40.8        17.1                            29.5             36.8                    35.0                          85.8\n",
      "59     60                       Mexico                  40.2        15.5                            28.4             43.4                    35.7                          45.4\n",
      "60     61                  El Salvador                  39.5        14.6                            27.6             43.4                    29.6                          31.9\n",
      "61     62                   Montenegro                  39.4        15.8                            28.1             36.7                    36.3                          52.9\n",
      "62     63                        Chile                  39.1        11.1                            25.7             41.6                    34.8                          45.1\n",
      "63     64                    Guatemala                  38.8        12.6                            26.3             41.8                    31.1                          34.5\n",
      "64     65                    Venezuela                  38.3         5.8                            22.7             39.5                    37.7                          14.7\n",
      "65     66                     Bulgaria                  38.3        10.3                            24.9             38.2                    34.7                          68.4\n",
      "66     67           Dominican Republic                  37.9        10.6                            24.8             37.6                    33.1                          28.7\n",
      "67     68                       Serbia                  37.7        12.4                            25.6             36.0                    31.2                          50.2\n",
      "68     69                      Romania                  37.5         9.9                            24.2             36.6                    35.5                          63.8\n",
      "69     70                       Turkey                  37.4        13.2                            25.8             37.6                    30.7                          49.0\n",
      "70     71                     Cambodia                  37.3         9.6                            24.0             43.5                    22.7                          23.9\n",
      "71     72                     Cameroon                  37.3        16.9                            27.5             34.6                    35.3                          10.5\n",
      "72     73                     Zimbabwe                  37.2        10.0                            24.1             35.5                    26.7                          26.1\n",
      "73     74                    Mauritius                  37.1        10.0                            24.1             40.7                    26.5                          43.2\n",
      "74     75                         Fiji                  35.4        15.3                            25.8             43.7                    28.4                          68.0\n",
      "75     76       Bosnia And Herzegovina                  35.0         6.2                            21.2             34.5                    22.4                          56.9\n",
      "76     77                    Sri Lanka                  34.6         5.6                            20.7             49.3                    18.5                          17.5\n",
      "77     78                 South Africa                  34.5        11.5                            23.5             29.7                    29.5                         102.8\n",
      "78     79                     Thailand                  34.1        11.2                            23.1             40.5                    18.3                          40.8\n",
      "79     80                      Moldova                  34.0        10.1                            22.5             31.6                    26.6                          46.6\n",
      "80     81                      Georgia                  33.4        13.7                            23.9             33.3                    31.6                          35.3\n",
      "81     82              North Macedonia                  33.0         6.5                            20.3             32.1                    22.1                          51.0\n",
      "82     83                      Ecuador                  32.6         8.6                            21.1             34.9                    24.5                          41.6\n",
      "83     84                   Kazakhstan                  31.7        12.3                            22.4             32.2                    28.7                          44.7\n",
      "84     85                        China                  31.7        12.3                            22.4             36.8                    20.6                          73.3\n",
      "85     86                      Nigeria                  31.4        22.1                            27.0             37.5                    20.6                          11.0\n",
      "86     87                   Azerbaijan                  31.2         8.7                            20.4             29.0                    31.8                          37.2\n",
      "87     88                  Philippines                  31.0         7.1                            19.6             35.0                    16.8                          33.3\n",
      "88     89                       Russia                  31.0        10.0                            20.9             28.8                    28.0                          50.6\n",
      "89     90                        Ghana                  30.9        10.2                            21.0             33.9                    26.9                          18.4\n",
      "90     91                       Brazil                  30.2         7.9                            19.5             29.5                    22.6                          37.2\n",
      "91     92                        Kenya                  30.2         8.5                            19.8             31.0                    22.1                          34.2\n",
      "92     93                     Botswana                  30.1         6.1                            18.5             30.0                    22.5                          64.4\n",
      "93     94                     Malaysia                  30.0         7.7                            19.3             36.3                    18.9                          79.9\n",
      "94     95                         Peru                  30.0         9.6                            20.2             31.5                    21.3                          34.8\n",
      "95     96                      Morocco                  29.5         7.4                            18.9             29.8                    20.7                          38.6\n",
      "96     97  Kosovo (Disputed Territory)                  29.5         7.7                            19.0             29.4                    20.6                          46.7\n",
      "97     98                    Argentina                  29.4         7.6                            18.9             29.7                    24.8                          41.5\n",
      "98     99                         Iraq                  29.3         7.6                            18.9             28.2                    20.9                          50.4\n",
      "99    100                       Uganda                  29.1         7.7                            18.8             29.3                    21.6                          17.8\n",
      "100   101                      Algeria                  28.9         3.8                            16.9             36.8                    14.0                          29.9\n",
      "101   102                     Colombia                  28.8         8.6                            19.1             30.3                    20.5                          33.7\n",
      "102   103                      Vietnam                  28.7         9.0                            19.2             33.9                    14.8                          40.5\n",
      "103   104                      Tunisia                  28.1         4.7                            16.9             31.4                    15.0                          32.2\n",
      "104   105                      Bolivia                  27.6         7.5                            18.0             27.0                    19.4                          37.9\n",
      "105   106                   Kyrgyzstan                  27.6        10.7                            19.5             28.2                    20.2                          30.7\n",
      "106   107                    Indonesia                  26.7         7.7                            17.6             33.4                    13.5                          31.7\n",
      "107   108                         Iran                  26.4         8.5                            17.8             22.0                    16.3                          26.0\n",
      "108   109                   Uzbekistan                  26.4        11.2                            19.1             28.4                    18.6                          39.3\n",
      "109   110                      Belarus                  26.4         8.3                            17.7             25.4                    24.9                          51.8\n",
      "110   111                      Ukraine                  25.9         7.6                            17.1             25.4                    20.7                          39.5\n",
      "111   112                        Nepal                  25.5         3.5                            15.0             25.6                    16.2                          25.4\n",
      "112   113                     Paraguay                  25.4         9.1                            17.6             24.0                    17.6                          34.6\n",
      "113   114                   Madagascar                  24.5         7.8                            16.5             24.1                    14.3                          15.6\n",
      "114   115                        Syria                  24.0         3.7                            14.2             24.5                    15.3                           5.5\n",
      "115   116                     Tanzania                  23.8         8.4                            16.4             25.4                    16.5                          25.9\n",
      "116   117                   Bangladesh                  22.5         2.4                            12.8             25.7                    12.8                          33.1\n",
      "117   118                        India                  21.2         5.6                            13.7             23.8                    15.1                          82.6\n",
      "118   119                        Egypt                  21.0         3.7                            12.7             21.2                    16.2                          20.0\n",
      "119   120                        Libya                  20.4         4.3                            12.7             22.2                    15.2                          42.0\n",
      "120   121                     Pakistan                  18.8         2.8                            11.1             17.5                    12.9                          29.1\n"
     ]
    }
   ],
   "source": [
    "## cleaning the empty cell\n",
    "new_df= df.dropna()\n",
    "print(new_df.to_string())"
   ]
  },
  {
   "cell_type": "code",
   "execution_count": 38,
   "id": "fa4ebe82",
   "metadata": {},
   "outputs": [
    {
     "data": {
      "text/plain": [
       "0      101.1\n",
       "1       85.0\n",
       "2       83.0\n",
       "3       76.7\n",
       "4       76.6\n",
       "       ...  \n",
       "116     22.5\n",
       "117     21.2\n",
       "118     21.0\n",
       "119     20.4\n",
       "120     18.8\n",
       "Name: Cost of Living Index, Length: 121, dtype: float64"
      ]
     },
     "execution_count": 38,
     "metadata": {},
     "output_type": "execute_result"
    }
   ],
   "source": [
    "## Replace the empty cell with a specific number, lets assume the number is 130\n",
    "\n",
    "new_df=df.fillna(130)\n",
    "\n",
    "## replace the nan for specific column , lets say for \"Cost of Living Index\" column\n",
    "df[\"Cost of Living Index\"].fillna(130)\n"
   ]
  },
  {
   "cell_type": "code",
   "execution_count": 79,
   "id": "391165fb",
   "metadata": {},
   "outputs": [
    {
     "data": {
      "text/plain": [
       "0      101.1\n",
       "1       85.0\n",
       "2       83.0\n",
       "3       76.7\n",
       "4       76.6\n",
       "       ...  \n",
       "116     22.5\n",
       "117     21.2\n",
       "118     21.0\n",
       "119     20.4\n",
       "120     18.8\n",
       "Name: Cost of Living Index, Length: 121, dtype: float64"
      ]
     },
     "execution_count": 79,
     "metadata": {},
     "output_type": "execute_result"
    }
   ],
   "source": [
    "## fill the nan value with previous value\n",
    "df[\"Cost of Living Index\"].fillna(method='ffill')\n",
    "\n",
    "## fill the nan value with next value\n",
    "df[\"Cost of Living Index\"].fillna(method='bfill')\n",
    "\n"
   ]
  },
  {
   "cell_type": "code",
   "execution_count": 98,
   "id": "d913fe0c",
   "metadata": {},
   "outputs": [
    {
     "name": "stdout",
     "output_type": "stream",
     "text": [
      "43.555371900826444\n",
      "39.5\n",
      "0    26.4\n",
      "Name: Cost of Living Index, dtype: float64\n",
      "18.8\n",
      "101.1\n",
      "16.147574381380128\n",
      "260.7441584022038\n",
      "5270.2\n",
      "8.687302852223371e+194\n",
      "121\n"
     ]
    }
   ],
   "source": [
    "## Finding the mean , median ,mode,max,min,total item, mean absolute deviation, variance ,sd,product\n",
    "\n",
    "## example for \"Cost of Living Index\" column\n",
    "\n",
    "print(df[\"Cost of Living Index\"].mean())\n",
    "print(df[\"Cost of Living Index\"].median())\n",
    "print(df[\"Cost of Living Index\"].mode())\n",
    "print(df[\"Cost of Living Index\"].min())\n",
    "print(df[\"Cost of Living Index\"].max())\n",
    "print(df[\"Cost of Living Index\"].std())\n",
    "print(df[\"Cost of Living Index\"].var())\n",
    "print(df[\"Cost of Living Index\"].sum())\n",
    "print(df[\"Cost of Living Index\"].prod())\n",
    "print(df[\"Cost of Living Index\"].count())\n"
   ]
  },
  {
   "cell_type": "code",
   "execution_count": 97,
   "id": "95260602",
   "metadata": {},
   "outputs": [],
   "source": [
    "#### Cleaning the wrong data ###"
   ]
  },
  {
   "cell_type": "code",
   "execution_count": 43,
   "id": "726a326c",
   "metadata": {},
   "outputs": [
    {
     "name": "stdout",
     "output_type": "stream",
     "text": [
      "US\n"
     ]
    }
   ],
   "source": [
    "# Change the wrong data in a correct one\n",
    "change=df.loc[8,'Country']=\"US\"\n",
    "print(change)"
   ]
  },
  {
   "cell_type": "code",
   "execution_count": 52,
   "id": "8da513d9",
   "metadata": {},
   "outputs": [
    {
     "name": "stdout",
     "output_type": "stream",
     "text": [
      "0                      Switzerland\n",
      "1                          Bahamas\n",
      "2                          Iceland\n",
      "3                        Singapore\n",
      "4                         Barbados\n",
      "5                           Norway\n",
      "6                          Denmark\n",
      "7                            China\n",
      "8                               US\n",
      "9                        Australia\n",
      "10                         Austria\n",
      "11                          Canada\n",
      "12                     New Zealand\n",
      "13                         Ireland\n",
      "14                          France\n",
      "15                     Puerto Rico\n",
      "16                         Finland\n",
      "17                     Netherlands\n",
      "18                          Israel\n",
      "19                      Luxembourg\n",
      "20                         Germany\n",
      "21                  United Kingdom\n",
      "22                         Belgium\n",
      "23                     South Korea\n",
      "24                          Sweden\n",
      "25                           Italy\n",
      "26            United Arab Emirates\n",
      "27                          Cyprus\n",
      "28                         Uruguay\n",
      "29                         Jamaica\n",
      "30                           Malta\n",
      "31             Trinidad And Tobago\n",
      "32                      Costa Rica\n",
      "33                         Bahrain\n",
      "34                          Greece\n",
      "35                         Estonia\n",
      "36                           Qatar\n",
      "37                        Slovenia\n",
      "38                          Latvia\n",
      "39                           Spain\n",
      "40                       Lithuania\n",
      "41                        Slovakia\n",
      "42                            Cuba\n",
      "43                  Czech Republic\n",
      "44                          Panama\n",
      "45                           Japan\n",
      "46                         Croatia\n",
      "47                    Saudi Arabia\n",
      "48                          Taiwan\n",
      "49                        Portugal\n",
      "50                            Oman\n",
      "51                          Kuwait\n",
      "52                         Albania\n",
      "53                         Lebanon\n",
      "54                         Hungary\n",
      "55                       Palestine\n",
      "56                          Jordan\n",
      "57                         Armenia\n",
      "58                          Poland\n",
      "59                          Mexico\n",
      "60                     El Salvador\n",
      "61                      Montenegro\n",
      "62                           Chile\n",
      "63                       Guatemala\n",
      "64                       Venezuela\n",
      "65                        Bulgaria\n",
      "66              Dominican Republic\n",
      "67                          Serbia\n",
      "68                         Romania\n",
      "69                          Turkey\n",
      "70                        Cambodia\n",
      "71                        Cameroon\n",
      "72                        Zimbabwe\n",
      "73                       Mauritius\n",
      "74                            Fiji\n",
      "75          Bosnia And Herzegovina\n",
      "76                       Sri Lanka\n",
      "77                    South Africa\n",
      "78                        Thailand\n",
      "79                         Moldova\n",
      "80                         Georgia\n",
      "81                 North Macedonia\n",
      "82                         Ecuador\n",
      "83                      Kazakhstan\n",
      "84                           China\n",
      "85                         Nigeria\n",
      "86                      Azerbaijan\n",
      "87                     Philippines\n",
      "88                          Russia\n",
      "89                           Ghana\n",
      "90                          Brazil\n",
      "91                           Kenya\n",
      "92                        Botswana\n",
      "93                        Malaysia\n",
      "94                            Peru\n",
      "95                         Morocco\n",
      "96     Kosovo (Disputed Territory)\n",
      "97                       Argentina\n",
      "98                            Iraq\n",
      "99                          Uganda\n",
      "100                        Algeria\n",
      "101                       Colombia\n",
      "102                        Vietnam\n",
      "103                        Tunisia\n",
      "104                        Bolivia\n",
      "105                     Kyrgyzstan\n",
      "106                      Indonesia\n",
      "107                           Iran\n",
      "108                     Uzbekistan\n",
      "109                        Belarus\n",
      "110                        Ukraine\n",
      "111                          Nepal\n",
      "112                       Paraguay\n",
      "113                     Madagascar\n",
      "114                          Syria\n",
      "115                       Tanzania\n",
      "116                     Bangladesh\n",
      "117                          India\n",
      "118                          Egypt\n",
      "119                          Libya\n",
      "120                       Pakistan\n"
     ]
    }
   ],
   "source": [
    "## Using the loop over a whole column---------->\n",
    "for x in df.index:\n",
    "    if (df.loc[x,\"Country\"])==\"Hong Kong (China)\":\n",
    "        df.loc[x,\"Country\"]=\"China\"\n",
    "print(df['Country'].to_string())\n",
    "\n",
    "## if we want to delete those wrong value then we will just use df.drop[x,\"Country\"]"
   ]
  },
  {
   "cell_type": "code",
   "execution_count": 54,
   "id": "e0aeddeb",
   "metadata": {},
   "outputs": [
    {
     "data": {
      "text/html": [
       "<div>\n",
       "<style scoped>\n",
       "    .dataframe tbody tr th:only-of-type {\n",
       "        vertical-align: middle;\n",
       "    }\n",
       "\n",
       "    .dataframe tbody tr th {\n",
       "        vertical-align: top;\n",
       "    }\n",
       "\n",
       "    .dataframe thead th {\n",
       "        text-align: right;\n",
       "    }\n",
       "</style>\n",
       "<table border=\"1\" class=\"dataframe\">\n",
       "  <thead>\n",
       "    <tr style=\"text-align: right;\">\n",
       "      <th></th>\n",
       "      <th>Rank</th>\n",
       "      <th>Country</th>\n",
       "      <th>Cost of Living Index</th>\n",
       "      <th>Rent Index</th>\n",
       "      <th>Cost of Living Plus Rent Index</th>\n",
       "      <th>Groceries Index</th>\n",
       "      <th>Restaurant Price Index</th>\n",
       "      <th>Local Purchasing Power Index</th>\n",
       "    </tr>\n",
       "  </thead>\n",
       "  <tbody>\n",
       "    <tr>\n",
       "      <th>0</th>\n",
       "      <td>1</td>\n",
       "      <td>Switzerland</td>\n",
       "      <td>101.1</td>\n",
       "      <td>46.5</td>\n",
       "      <td>74.9</td>\n",
       "      <td>109.1</td>\n",
       "      <td>97.0</td>\n",
       "      <td>158.7</td>\n",
       "    </tr>\n",
       "    <tr>\n",
       "      <th>1</th>\n",
       "      <td>2</td>\n",
       "      <td>Bahamas</td>\n",
       "      <td>85.0</td>\n",
       "      <td>36.7</td>\n",
       "      <td>61.8</td>\n",
       "      <td>81.6</td>\n",
       "      <td>83.3</td>\n",
       "      <td>54.6</td>\n",
       "    </tr>\n",
       "    <tr>\n",
       "      <th>2</th>\n",
       "      <td>3</td>\n",
       "      <td>Iceland</td>\n",
       "      <td>83.0</td>\n",
       "      <td>39.2</td>\n",
       "      <td>62.0</td>\n",
       "      <td>88.4</td>\n",
       "      <td>86.8</td>\n",
       "      <td>120.3</td>\n",
       "    </tr>\n",
       "    <tr>\n",
       "      <th>3</th>\n",
       "      <td>4</td>\n",
       "      <td>Singapore</td>\n",
       "      <td>76.7</td>\n",
       "      <td>67.2</td>\n",
       "      <td>72.1</td>\n",
       "      <td>74.6</td>\n",
       "      <td>50.4</td>\n",
       "      <td>111.1</td>\n",
       "    </tr>\n",
       "    <tr>\n",
       "      <th>4</th>\n",
       "      <td>5</td>\n",
       "      <td>Barbados</td>\n",
       "      <td>76.6</td>\n",
       "      <td>19.0</td>\n",
       "      <td>48.9</td>\n",
       "      <td>80.8</td>\n",
       "      <td>69.4</td>\n",
       "      <td>43.5</td>\n",
       "    </tr>\n",
       "    <tr>\n",
       "      <th>...</th>\n",
       "      <td>...</td>\n",
       "      <td>...</td>\n",
       "      <td>...</td>\n",
       "      <td>...</td>\n",
       "      <td>...</td>\n",
       "      <td>...</td>\n",
       "      <td>...</td>\n",
       "      <td>...</td>\n",
       "    </tr>\n",
       "    <tr>\n",
       "      <th>116</th>\n",
       "      <td>117</td>\n",
       "      <td>Bangladesh</td>\n",
       "      <td>22.5</td>\n",
       "      <td>2.4</td>\n",
       "      <td>12.8</td>\n",
       "      <td>25.7</td>\n",
       "      <td>12.8</td>\n",
       "      <td>33.1</td>\n",
       "    </tr>\n",
       "    <tr>\n",
       "      <th>117</th>\n",
       "      <td>118</td>\n",
       "      <td>India</td>\n",
       "      <td>21.2</td>\n",
       "      <td>5.6</td>\n",
       "      <td>13.7</td>\n",
       "      <td>23.8</td>\n",
       "      <td>15.1</td>\n",
       "      <td>82.6</td>\n",
       "    </tr>\n",
       "    <tr>\n",
       "      <th>118</th>\n",
       "      <td>119</td>\n",
       "      <td>Egypt</td>\n",
       "      <td>21.0</td>\n",
       "      <td>3.7</td>\n",
       "      <td>12.7</td>\n",
       "      <td>21.2</td>\n",
       "      <td>16.2</td>\n",
       "      <td>20.0</td>\n",
       "    </tr>\n",
       "    <tr>\n",
       "      <th>119</th>\n",
       "      <td>120</td>\n",
       "      <td>Libya</td>\n",
       "      <td>20.4</td>\n",
       "      <td>4.3</td>\n",
       "      <td>12.7</td>\n",
       "      <td>22.2</td>\n",
       "      <td>15.2</td>\n",
       "      <td>42.0</td>\n",
       "    </tr>\n",
       "    <tr>\n",
       "      <th>120</th>\n",
       "      <td>121</td>\n",
       "      <td>Pakistan</td>\n",
       "      <td>18.8</td>\n",
       "      <td>2.8</td>\n",
       "      <td>11.1</td>\n",
       "      <td>17.5</td>\n",
       "      <td>12.9</td>\n",
       "      <td>29.1</td>\n",
       "    </tr>\n",
       "  </tbody>\n",
       "</table>\n",
       "<p>121 rows × 8 columns</p>\n",
       "</div>"
      ],
      "text/plain": [
       "     Rank      Country  Cost of Living Index  Rent Index  \\\n",
       "0       1  Switzerland                 101.1        46.5   \n",
       "1       2      Bahamas                  85.0        36.7   \n",
       "2       3      Iceland                  83.0        39.2   \n",
       "3       4    Singapore                  76.7        67.2   \n",
       "4       5     Barbados                  76.6        19.0   \n",
       "..    ...          ...                   ...         ...   \n",
       "116   117   Bangladesh                  22.5         2.4   \n",
       "117   118        India                  21.2         5.6   \n",
       "118   119        Egypt                  21.0         3.7   \n",
       "119   120        Libya                  20.4         4.3   \n",
       "120   121     Pakistan                  18.8         2.8   \n",
       "\n",
       "     Cost of Living Plus Rent Index  Groceries Index  Restaurant Price Index  \\\n",
       "0                              74.9            109.1                    97.0   \n",
       "1                              61.8             81.6                    83.3   \n",
       "2                              62.0             88.4                    86.8   \n",
       "3                              72.1             74.6                    50.4   \n",
       "4                              48.9             80.8                    69.4   \n",
       "..                              ...              ...                     ...   \n",
       "116                            12.8             25.7                    12.8   \n",
       "117                            13.7             23.8                    15.1   \n",
       "118                            12.7             21.2                    16.2   \n",
       "119                            12.7             22.2                    15.2   \n",
       "120                            11.1             17.5                    12.9   \n",
       "\n",
       "     Local Purchasing Power Index  \n",
       "0                           158.7  \n",
       "1                            54.6  \n",
       "2                           120.3  \n",
       "3                           111.1  \n",
       "4                            43.5  \n",
       "..                            ...  \n",
       "116                          33.1  \n",
       "117                          82.6  \n",
       "118                          20.0  \n",
       "119                          42.0  \n",
       "120                          29.1  \n",
       "\n",
       "[121 rows x 8 columns]"
      ]
     },
     "execution_count": 54,
     "metadata": {},
     "output_type": "execute_result"
    }
   ],
   "source": [
    "## Removing Duplicates\n",
    "\n",
    "df.drop_duplicates()"
   ]
  },
  {
   "cell_type": "markdown",
   "id": "f9fef357",
   "metadata": {},
   "source": [
    "# Correlation"
   ]
  },
  {
   "cell_type": "code",
   "execution_count": 56,
   "id": "54288700",
   "metadata": {},
   "outputs": [
    {
     "data": {
      "text/plain": [
       "0.9454825227702132"
      ]
     },
     "execution_count": 56,
     "metadata": {},
     "output_type": "execute_result"
    }
   ],
   "source": [
    "## correlation between two column\n",
    "df['Cost of Living Index'].corr(df['Restaurant Price Index'])"
   ]
  },
  {
   "cell_type": "markdown",
   "id": "240e80b7",
   "metadata": {},
   "source": [
    "# Plotting the graph"
   ]
  },
  {
   "cell_type": "code",
   "execution_count": 57,
   "id": "a8a92bef",
   "metadata": {},
   "outputs": [],
   "source": [
    "## first import the matplotlib\n",
    "\n",
    "import matplotlib.pyplot as plt"
   ]
  },
  {
   "cell_type": "code",
   "execution_count": 59,
   "id": "78b8f4bb",
   "metadata": {},
   "outputs": [
    {
     "data": {
      "image/png": "[encoded data removed]",
      "text/plain": [
       "<Figure size 640x480 with 1 Axes>"
      ]
     },
     "metadata": {},
     "output_type": "display_data"
    }
   ],
   "source": [
    "df.plot()\n",
    "plt.show()"
   ]
  },
  {
   "cell_type": "code",
   "execution_count": null,
   "id": "e367b281",
   "metadata": {},
   "outputs": [],
   "source": []
  }
 ],
 "metadata": {
  "kernelspec": {
   "display_name": "Python 3 (ipykernel)",
   "language": "python",
   "name": "python3"
  },
  "language_info": {
   "codemirror_mode": {
    "name": "ipython",
    "version": 3
   },
   "file_extension": ".py",
   "mimetype": "text/x-python",
   "name": "python",
   "nbconvert_exporter": "python",
   "pygments_lexer": "ipython3",
   "version": "3.10.9"
  }
 },
 "nbformat": 4,
 "nbformat_minor": 5
}
