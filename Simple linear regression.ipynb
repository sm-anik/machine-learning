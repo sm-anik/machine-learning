{
 "cells": [
  {
   "cell_type": "markdown",
   "id": "254ae190",
   "metadata": {},
   "source": [
    "# Simple Linear regression"
   ]
  },
  {
   "cell_type": "code",
   "execution_count": 22,
   "id": "cc5965b5",
   "metadata": {},
   "outputs": [
    {
     "name": "stdout",
     "output_type": "stream",
     "text": [
      "                                 OLS Regression Results                                \n",
      "=======================================================================================\n",
      "Dep. Variable:                      y   R-squared (uncentered):                   0.907\n",
      "Model:                            OLS   Adj. R-squared (uncentered):              0.884\n",
      "Method:                 Least Squares   F-statistic:                              38.95\n",
      "Date:                Sun, 18 Aug 2024   Prob (F-statistic):                     0.00336\n",
      "Time:                        00:45:15   Log-Likelihood:                         -8.3863\n",
      "No. Observations:                   5   AIC:                                      18.77\n",
      "Df Residuals:                       4   BIC:                                      18.38\n",
      "Df Model:                           1                                                  \n",
      "Covariance Type:            nonrobust                                                  \n",
      "==============================================================================\n",
      "                 coef    std err          t      P>|t|      [0.025      0.975]\n",
      "------------------------------------------------------------------------------\n",
      "x1             1.2182      0.195      6.241      0.003       0.676       1.760\n",
      "==============================================================================\n",
      "Omnibus:                          nan   Durbin-Watson:                   1.626\n",
      "Prob(Omnibus):                    nan   Jarque-Bera (JB):                0.370\n",
      "Skew:                          -0.342   Prob(JB):                        0.831\n",
      "Kurtosis:                       1.856   Cond. No.                         1.00\n",
      "==============================================================================\n",
      "\n",
      "Notes:\n",
      "[1] R² is computed without centering (uncentered) since the model does not contain a constant.\n",
      "[2] Standard Errors assume that the covariance matrix of the errors is correctly specified.\n"
     ]
    },
    {
     "name": "stderr",
     "output_type": "stream",
     "text": [
      "C:\\Users\\User\\anaconda3\\lib\\site-packages\\statsmodels\\stats\\stattools.py:74: ValueWarning: omni_normtest is not valid with less than 8 observations; 5 samples were given.\n",
      "  warn(\"omni_normtest is not valid with less than 8 observations; %i \"\n"
     ]
    }
   ],
   "source": [
    "## Using statsmodels module\n",
    "import numpy as np\n",
    "import statsmodels.api as sm\n",
    "import matplotlib.pyplot as plt\n",
    "x = np.array([1, 2, 3, 4, 5])\n",
    "y = np.array([3, 4, 2, 5, 6])\n",
    "model= sm.OLS(y,x).fit()\n",
    "print(model.summary())"
   ]
  },
  {
   "cell_type": "code",
   "execution_count": 49,
   "id": "a6af106e",
   "metadata": {},
   "outputs": [
    {
     "name": "stdout",
     "output_type": "stream",
     "text": [
      "           Statistics  Value\n",
      "0         Coefficient   0.70\n",
      "1           Intercept   1.90\n",
      "2           R-Squared   0.49\n",
      "3  Mean Squared Error   1.02\n"
     ]
    }
   ],
   "source": [
    "## Using scikit learn\n",
    "from sklearn.linear_model import LinearRegression\n",
    "from sklearn.metrics import r2_score, mean_squared_error\n",
    "import pandas as pd\n",
    "ind = np.array([[1], [2], [3], [4], [5]])\n",
    "dep= np.array([3, 4, 2, 5, 6])\n",
    "\n",
    "model1= LinearRegression()\n",
    "fit=model1.fit(ind,dep)\n",
    "y_predict= fit.predict(ind)\n",
    "## create summary table\n",
    "coefficient= fit.coef_[0]\n",
    "intercept = fit.intercept_\n",
    "r_squared= r2_score(dep,y_predict)\n",
    "mse= mean_squared_error(y,y_predict)\n",
    "summary_df= pd.DataFrame(\n",
    "{\n",
    "    'Statistics':['Coefficient','Intercept','R-Squared','Mean Squared Error'],\n",
    "    'Value'     :[coefficient,intercept,r_squared,mse]\n",
    "})\n",
    "print(summary_df)"
   ]
  },
  {
   "cell_type": "code",
   "execution_count": null,
   "id": "b63438c5",
   "metadata": {},
   "outputs": [],
   "source": []
  }
 ],
 "metadata": {
  "kernelspec": {
   "display_name": "Python 3 (ipykernel)",
   "language": "python",
   "name": "python3"
  },
  "language_info": {
   "codemirror_mode": {
    "name": "ipython",
    "version": 3
   },
   "file_extension": ".py",
   "mimetype": "text/x-python",
   "name": "python",
   "nbconvert_exporter": "python",
   "pygments_lexer": "ipython3",
   "version": "3.10.9"
  }
 },
 "nbformat": 4,
 "nbformat_minor": 5
}
