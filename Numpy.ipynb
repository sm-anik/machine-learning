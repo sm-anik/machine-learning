{
 "cells": [
  {
   "cell_type": "markdown",
   "id": "bc1b11f5",
   "metadata": {},
   "source": [
    "# All  numpy code that i have learned "
   ]
  },
  {
   "cell_type": "code",
   "execution_count": 12,
   "id": "444992b7",
   "metadata": {},
   "outputs": [
    {
     "name": "stdout",
     "output_type": "stream",
     "text": [
      "[[2 3]\n",
      " [4 5]\n",
      " [6 7]]\n"
     ]
    }
   ],
   "source": [
    "import numpy as np\n",
    "\n",
    "## creat a numpy 2D array\n",
    "a= np.array([[2,3],\n",
    "           [4,5],\n",
    "            [6,7]])\n",
    "print(a)"
   ]
  },
  {
   "cell_type": "code",
   "execution_count": 6,
   "id": "fe2917f2",
   "metadata": {},
   "outputs": [
    {
     "data": {
      "text/plain": [
       "2"
      ]
     },
     "execution_count": 6,
     "metadata": {},
     "output_type": "execute_result"
    }
   ],
   "source": [
    "a.ndim"
   ]
  },
  {
   "cell_type": "code",
   "execution_count": 8,
   "id": "cb8a5ea5",
   "metadata": {},
   "outputs": [
    {
     "data": {
      "text/plain": [
       "4"
      ]
     },
     "execution_count": 8,
     "metadata": {},
     "output_type": "execute_result"
    }
   ],
   "source": [
    "a.itemsize"
   ]
  },
  {
   "cell_type": "code",
   "execution_count": 9,
   "id": "b0fdd74d",
   "metadata": {},
   "outputs": [
    {
     "data": {
      "text/plain": [
       "(3, 2)"
      ]
     },
     "execution_count": 9,
     "metadata": {},
     "output_type": "execute_result"
    }
   ],
   "source": [
    "a.shape"
   ]
  },
  {
   "cell_type": "code",
   "execution_count": 10,
   "id": "c14f89ef",
   "metadata": {},
   "outputs": [],
   "source": [
    "## create a array with the given range\n",
    "b=np.arange(5)"
   ]
  },
  {
   "cell_type": "code",
   "execution_count": 11,
   "id": "90e2fae5",
   "metadata": {},
   "outputs": [
    {
     "name": "stdout",
     "output_type": "stream",
     "text": [
      "[0 1 2 3 4]\n"
     ]
    }
   ],
   "source": [
    "print(b)"
   ]
  },
  {
   "cell_type": "code",
   "execution_count": 13,
   "id": "0edcdc63",
   "metadata": {},
   "outputs": [
    {
     "name": "stdout",
     "output_type": "stream",
     "text": [
      "[0 2 4 6 8]\n"
     ]
    }
   ],
   "source": [
    "## add the value of two arrays\n",
    "c=np.arange(5)\n",
    "d=np.add(b,c)\n",
    "print(d)"
   ]
  },
  {
   "cell_type": "code",
   "execution_count": 14,
   "id": "299d2990",
   "metadata": {},
   "outputs": [
    {
     "name": "stdout",
     "output_type": "stream",
     "text": [
      "['countrybangladesh' 'nameanik']\n"
     ]
    }
   ],
   "source": [
    "##add character of two string arrays\n",
    "str_arr1= np.array(['country','name'])\n",
    "str_arr2= np.array(['bangladesh','anik'])\n",
    "new_strarr=np.char.add(str_arr1,str_arr2)\n",
    "print(new_strarr)"
   ]
  },
  {
   "cell_type": "code",
   "execution_count": 15,
   "id": "31b76fe7",
   "metadata": {},
   "outputs": [
    {
     "name": "stdout",
     "output_type": "stream",
     "text": [
      "--------anik--------\n"
     ]
    }
   ],
   "source": [
    "##centerized any string\n",
    "print(np.char.center('anik', 20, fillchar = '-'))"
   ]
  },
  {
   "cell_type": "code",
   "execution_count": 16,
   "id": "365e68ab",
   "metadata": {},
   "outputs": [
    {
     "name": "stdout",
     "output_type": "stream",
     "text": [
      "Anik\n",
      "Bangladesh Is Independent Now\n",
      "anik\n"
     ]
    }
   ],
   "source": [
    "## capitalize \n",
    "print (np.char.capitalize('anik'))\n",
    "\n",
    "## make the tile \n",
    "print(np.char.title(\"bangladesh is independent now\"))\n",
    "\n",
    "##lower case\n",
    "print(np.char.lower('ANIK'))"
   ]
  },
  {
   "cell_type": "code",
   "execution_count": 17,
   "id": "d98a948d",
   "metadata": {},
   "outputs": [
    {
     "name": "stdout",
     "output_type": "stream",
     "text": [
      "['bangladesh', 'is', 'independent', 'now']\n",
      "['hurrah! ', ' bangladesh is independent now']\n"
     ]
    }
   ],
   "source": [
    "##Split\n",
    "print(np.char.split('bangladesh is independent now'))\n",
    "print(np.char.splitlines('hurrah! \\n bangladesh is independent now'))"
   ]
  },
  {
   "cell_type": "code",
   "execution_count": 18,
   "id": "d7205a9e",
   "metadata": {},
   "outputs": [
    {
     "name": "stdout",
     "output_type": "stream",
     "text": [
      "Bangladesh is independent now\n"
     ]
    }
   ],
   "source": [
    "## Replace with differenct word\n",
    "\n",
    "print(np.char.replace('Bangladesh was independent now','was','is'))"
   ]
  },
  {
   "cell_type": "code",
   "execution_count": null,
   "id": "9d6c10e0",
   "metadata": {},
   "outputs": [],
   "source": []
  },
  {
   "cell_type": "markdown",
   "id": "267487ba",
   "metadata": {},
   "source": [
    "# Array manipulation"
   ]
  },
  {
   "cell_type": "code",
   "execution_count": 22,
   "id": "18c270b3",
   "metadata": {},
   "outputs": [
    {
     "name": "stdout",
     "output_type": "stream",
     "text": [
      "[[0 1 2]\n",
      " [3 4 5]\n",
      " [6 7 8]]\n"
     ]
    }
   ],
   "source": [
    "# Reshape (convert 1D array into 3D array)\n",
    "\n",
    "array= np.arange(9).reshape(3,3)\n",
    "print(array)"
   ]
  },
  {
   "cell_type": "code",
   "execution_count": 23,
   "id": "e9c7543c",
   "metadata": {},
   "outputs": [
    {
     "name": "stdout",
     "output_type": "stream",
     "text": [
      "[[0 3 6]\n",
      " [1 4 7]\n",
      " [2 5 8]]\n"
     ]
    }
   ],
   "source": [
    "## transpose matrix \n",
    "print(np.transpose(array))\n"
   ]
  },
  {
   "cell_type": "code",
   "execution_count": 42,
   "id": "66c7aeeb",
   "metadata": {},
   "outputs": [
    {
     "data": {
      "text/plain": [
       "array([[0, 0, 0, 0, 0, 0],\n",
       "       [0, 0, 0, 0, 0, 0],\n",
       "       [0, 0, 0, 0, 0, 0],\n",
       "       [0, 0, 0, 0, 0, 0],\n",
       "       [0, 0, 0, 0, 0, 0],\n",
       "       [0, 0, 0, 0, 0, 0]])"
      ]
     },
     "execution_count": 42,
     "metadata": {},
     "output_type": "execute_result"
    }
   ],
   "source": [
    "## creat 6*6 array with zero values\n",
    "z= np.zeros((6,6),dtype=int)\n",
    "z"
   ]
  },
  {
   "cell_type": "code",
   "execution_count": 49,
   "id": "58f42440",
   "metadata": {},
   "outputs": [
    {
     "name": "stdout",
     "output_type": "stream",
     "text": [
      "[1 2 3 4 5 6]\n",
      "[[1 2 3]\n",
      " [4 5 6]]\n"
     ]
    }
   ],
   "source": [
    "#Stacking Along Rows\n",
    "arr1 = np.array([1, 2, 3])\n",
    "\n",
    "arr2 = np.array([4, 5, 6])\n",
    "\n",
    "arrnew1 = np.hstack((arr1, arr2))\n",
    "\n",
    "print(arrnew1)\n",
    "\n",
    "#Stacking Along Columns\n",
    "arrnew2 = np.vstack((arr1, arr2))\n",
    "\n",
    "print(arrnew2)"
   ]
  },
  {
   "cell_type": "code",
   "execution_count": 55,
   "id": "8ed8eb60",
   "metadata": {},
   "outputs": [
    {
     "name": "stdout",
     "output_type": "stream",
     "text": [
      "[ 5  6 10 25 98]\n"
     ]
    }
   ],
   "source": [
    "## Sorting a array\n",
    "x= np.array([25,5,6,98,10])\n",
    "print(np.sort(x))"
   ]
  },
  {
   "cell_type": "code",
   "execution_count": 59,
   "id": "637590a5",
   "metadata": {},
   "outputs": [
    {
     "name": "stdout",
     "output_type": "stream",
     "text": [
      "[1 2 3]\n",
      "[1 2 3]\n",
      "[1 2 3]\n"
     ]
    }
   ],
   "source": [
    "## Copy array\n",
    "a= np.array([1,2,3])\n",
    "b= a.copy()\n",
    "print(b)\n",
    "\n",
    "## copy with view array\n",
    "\n",
    "c= a.view()\n",
    "print(c)\n",
    "d=a\n",
    "print(d)\n"
   ]
  },
  {
   "cell_type": "markdown",
   "id": "ce217d02",
   "metadata": {},
   "source": [
    "# NumPy Searching Arrays"
   ]
  },
  {
   "cell_type": "code",
   "execution_count": 54,
   "id": "a5298b40",
   "metadata": {},
   "outputs": [
    {
     "name": "stdout",
     "output_type": "stream",
     "text": [
      "(array([3, 5, 6], dtype=int64),)\n",
      "3\n"
     ]
    }
   ],
   "source": [
    "arr = np.array([1, 2, 3, 4, 5, 4, 4])\n",
    "\n",
    "x = np.where(arr == 4)\n",
    "\n",
    "print(x)\n",
    "\n",
    "##binary search \n",
    "y= np.searchsorted(arr,4)\n",
    "print(y)"
   ]
  },
  {
   "cell_type": "markdown",
   "id": "53cf3131",
   "metadata": {},
   "source": [
    "# Arithmetic operation"
   ]
  },
  {
   "cell_type": "code",
   "execution_count": 24,
   "id": "f3a249be",
   "metadata": {},
   "outputs": [
    {
     "name": "stdout",
     "output_type": "stream",
     "text": [
      "[[10 11 12]\n",
      " [13 14 15]\n",
      " [16 17 18]]\n"
     ]
    }
   ],
   "source": [
    "## add the value of two array\n",
    "array1= np.array([10,10,10])\n",
    "new_array= np.add(array,array1)\n",
    "print(new_array)"
   ]
  },
  {
   "cell_type": "code",
   "execution_count": 25,
   "id": "994ae949",
   "metadata": {},
   "outputs": [
    {
     "name": "stdout",
     "output_type": "stream",
     "text": [
      "[[-10  -9  -8]\n",
      " [ -7  -6  -5]\n",
      " [ -4  -3  -2]]\n"
     ]
    }
   ],
   "source": [
    "## subtract two array\n",
    "new_array2= np.subtract(array,array1)\n",
    "print(new_array2)"
   ]
  },
  {
   "cell_type": "code",
   "execution_count": 26,
   "id": "af8f90f4",
   "metadata": {},
   "outputs": [
    {
     "name": "stdout",
     "output_type": "stream",
     "text": [
      "[[ 0 10 20]\n",
      " [30 40 50]\n",
      " [60 70 80]]\n"
     ]
    }
   ],
   "source": [
    "## multiply two array\n",
    "new_array= np.multiply(array,array1)\n",
    "print(new_array)"
   ]
  },
  {
   "cell_type": "code",
   "execution_count": 27,
   "id": "9319f4f1",
   "metadata": {},
   "outputs": [
    {
     "name": "stdout",
     "output_type": "stream",
     "text": [
      "[[0.  0.1 0.2]\n",
      " [0.3 0.4 0.5]\n",
      " [0.6 0.7 0.8]]\n"
     ]
    }
   ],
   "source": [
    "## divide two array\n",
    "new_array= np.divide(array,array1)\n",
    "print(new_array)"
   ]
  },
  {
   "cell_type": "code",
   "execution_count": 28,
   "id": "9d6e1d42",
   "metadata": {},
   "outputs": [
    {
     "data": {
      "text/plain": [
       "slice(2, 10, 2)"
      ]
     },
     "execution_count": 28,
     "metadata": {},
     "output_type": "execute_result"
    }
   ],
   "source": [
    "## slice a array\n",
    "slice_array= np.arange(10)\n",
    "sliced= slice(2,10,2)\n",
    "sliced"
   ]
  },
  {
   "cell_type": "markdown",
   "id": "0294fdd6",
   "metadata": {},
   "source": [
    "# Iterating over array"
   ]
  },
  {
   "cell_type": "code",
   "execution_count": 29,
   "id": "a2defc55",
   "metadata": {},
   "outputs": [
    {
     "name": "stdout",
     "output_type": "stream",
     "text": [
      "[0 1 2]\n",
      "[3 4 5]\n",
      "[6 7 8]\n"
     ]
    }
   ],
   "source": [
    "for x in array:\n",
    "    print(x)"
   ]
  },
  {
   "cell_type": "code",
   "execution_count": 31,
   "id": "c46eb23d",
   "metadata": {},
   "outputs": [
    {
     "name": "stdout",
     "output_type": "stream",
     "text": [
      "0\n",
      "1\n",
      "2\n",
      "3\n",
      "4\n",
      "5\n",
      "6\n",
      "7\n",
      "8\n"
     ]
    }
   ],
   "source": [
    "for x in np.nditer(array):\n",
    "    print(x)"
   ]
  },
  {
   "cell_type": "code",
   "execution_count": 34,
   "id": "89828769",
   "metadata": {},
   "outputs": [
    {
     "name": "stdout",
     "output_type": "stream",
     "text": [
      "[1 2 3 4 5 6 7 8]\n"
     ]
    }
   ],
   "source": [
    "##joining two arrays\n",
    "\n",
    "a= np.array([1,2,3,4])\n",
    "b=np.array([5,6,7,8])\n",
    "print(np.concatenate((a,b)))"
   ]
  },
  {
   "cell_type": "markdown",
   "id": "d9ed1f87",
   "metadata": {},
   "source": [
    "# split the array"
   ]
  },
  {
   "cell_type": "code",
   "execution_count": 52,
   "id": "31f3d9a5",
   "metadata": {},
   "outputs": [
    {
     "name": "stdout",
     "output_type": "stream",
     "text": [
      "[array([0, 1, 2]), array([3, 4, 5]), array([6, 7, 8])]\n",
      "[array([0, 1, 2]), array([3, 4]), array([5, 6]), array([7, 8])]\n"
     ]
    }
   ],
   "source": [
    "split_arr=np.arange(9)\n",
    "new_arr=np.split(split_arr,3)\n",
    "print(new_arr)\n",
    "# Splitting NumPy Arrays in correct way\n",
    "newsplitarray=np.array_split(split_arr,4)\n",
    "print(newsplitarray)"
   ]
  },
  {
   "cell_type": "markdown",
   "id": "e19ca631",
   "metadata": {},
   "source": [
    "# Histogram"
   ]
  },
  {
   "cell_type": "code",
   "execution_count": 41,
   "id": "6d35ca88",
   "metadata": {},
   "outputs": [
    {
     "data": {
      "image/png": "[encoded data removed]",
      "text/plain": [
       "<Figure size 640x480 with 1 Axes>"
      ]
     },
     "metadata": {},
     "output_type": "display_data"
    }
   ],
   "source": [
    "from matplotlib import pyplot as plt\n",
    "a= np.array([20,87,65,5,78,56,32,42,56])\n",
    "plt.hist(a,bins=[0,20,40,60])\n",
    "plt.title(\"histogram\")\n",
    "plt.show()"
   ]
  },
  {
   "cell_type": "markdown",
   "id": "0dd08857",
   "metadata": {},
   "source": [
    "# find the missing values"
   ]
  },
  {
   "cell_type": "code",
   "execution_count": 44,
   "id": "1b10a1c7",
   "metadata": {},
   "outputs": [
    {
     "data": {
      "text/plain": [
       "array([[0.31573781, 0.41567032, 0.1236415 , 0.83690723, 0.54074184,\n",
       "        0.75693525,        nan, 0.49511005, 0.54766055, 0.03840014],\n",
       "       [0.69676218,        nan, 0.02087818, 0.94977357, 0.33277892,\n",
       "        0.99096379, 0.86377355, 0.83158958, 0.51620889, 0.64530225],\n",
       "       [0.69946067, 0.1862733 , 0.39936191, 0.76259411, 0.32805859,\n",
       "        0.35333946,        nan, 0.95480469, 0.23775102, 0.1726841 ],\n",
       "       [0.89552381, 0.80270351, 0.95277677, 0.10946684, 0.97558187,\n",
       "        0.29061528, 0.81937122, 0.84676597, 0.84960692, 0.13819631],\n",
       "       [0.52818442, 0.8597513 , 0.14124416, 0.18276966, 0.55725823,\n",
       "        0.07753579, 0.14721804, 0.6023525 , 0.01460897, 0.38531452],\n",
       "       [0.14131092, 0.61069386, 0.64275846, 0.07747755, 0.14693008,\n",
       "        0.17030205, 0.71705677, 0.24106355, 0.08808227, 0.94076291],\n",
       "       [0.41202218, 0.26982878, 0.28819194, 0.77477889, 0.603663  ,\n",
       "        0.10139011, 0.33814139, 0.09900393, 0.63768118, 0.17091396],\n",
       "       [0.75953298, 0.34668064, 0.91018045, 0.12791302, 0.62454848,\n",
       "        0.61760798, 0.33185414, 0.52495217, 0.55053091,        nan],\n",
       "       [0.34735354, 0.93391044, 0.03624261, 0.40167627, 0.60885816,\n",
       "        0.60991789, 0.55220969, 0.70958336, 0.41397867, 0.29298237],\n",
       "       [       nan, 0.90187649, 0.52620703, 0.42520667, 0.30886858,\n",
       "        0.85127429, 0.17445608, 0.56676352, 0.96936724, 0.77853182]])"
      ]
     },
     "execution_count": 44,
     "metadata": {},
     "output_type": "execute_result"
    }
   ],
   "source": [
    "## creating a array with some nan values\n",
    "Z= np.random.rand(10,10)\n",
    "Z[np.random.randint(10,size=5),np.random.randint(10,size=5)]=np.nan\n",
    "Z"
   ]
  },
  {
   "cell_type": "code",
   "execution_count": 46,
   "id": "adc6729a",
   "metadata": {},
   "outputs": [
    {
     "name": "stdout",
     "output_type": "stream",
     "text": [
      "Total number of missing values is\n",
      " 5\n",
      "Index of missing values:\n",
      " [[0 6]\n",
      " [1 1]\n",
      " [2 6]\n",
      " [7 9]\n",
      " [9 0]]\n"
     ]
    }
   ],
   "source": [
    "## finding the missing values\n",
    "print(\"Total number of missing values is\\n\", np.isnan(Z).sum())\n",
    "print(\"Index of missing values:\\n\",np.argwhere(np.isnan(Z)))\n"
   ]
  },
  {
   "cell_type": "code",
   "execution_count": 47,
   "id": "3b65d203",
   "metadata": {},
   "outputs": [
    {
     "data": {
      "text/plain": [
       "array([[0.31573781, 0.41567032, 0.1236415 , 0.83690723, 0.54074184,\n",
       "        0.75693525, 0.        , 0.49511005, 0.54766055, 0.03840014],\n",
       "       [0.69676218, 0.        , 0.02087818, 0.94977357, 0.33277892,\n",
       "        0.99096379, 0.86377355, 0.83158958, 0.51620889, 0.64530225],\n",
       "       [0.69946067, 0.1862733 , 0.39936191, 0.76259411, 0.32805859,\n",
       "        0.35333946, 0.        , 0.95480469, 0.23775102, 0.1726841 ],\n",
       "       [0.89552381, 0.80270351, 0.95277677, 0.10946684, 0.97558187,\n",
       "        0.29061528, 0.81937122, 0.84676597, 0.84960692, 0.13819631],\n",
       "       [0.52818442, 0.8597513 , 0.14124416, 0.18276966, 0.55725823,\n",
       "        0.07753579, 0.14721804, 0.6023525 , 0.01460897, 0.38531452],\n",
       "       [0.14131092, 0.61069386, 0.64275846, 0.07747755, 0.14693008,\n",
       "        0.17030205, 0.71705677, 0.24106355, 0.08808227, 0.94076291],\n",
       "       [0.41202218, 0.26982878, 0.28819194, 0.77477889, 0.603663  ,\n",
       "        0.10139011, 0.33814139, 0.09900393, 0.63768118, 0.17091396],\n",
       "       [0.75953298, 0.34668064, 0.91018045, 0.12791302, 0.62454848,\n",
       "        0.61760798, 0.33185414, 0.52495217, 0.55053091, 0.        ],\n",
       "       [0.34735354, 0.93391044, 0.03624261, 0.40167627, 0.60885816,\n",
       "        0.60991789, 0.55220969, 0.70958336, 0.41397867, 0.29298237],\n",
       "       [0.        , 0.90187649, 0.52620703, 0.42520667, 0.30886858,\n",
       "        0.85127429, 0.17445608, 0.56676352, 0.96936724, 0.77853182]])"
      ]
     },
     "execution_count": 47,
     "metadata": {},
     "output_type": "execute_result"
    }
   ],
   "source": [
    "## filtering the missing value and put zero\n",
    "inds= np.where(np.isnan(Z))\n",
    "Z[inds]=0\n",
    "Z"
   ]
  },
  {
   "cell_type": "markdown",
   "id": "745ee0e2",
   "metadata": {},
   "source": [
    "# NumPy ufunc"
   ]
  },
  {
   "cell_type": "code",
   "execution_count": 60,
   "id": "695ce146",
   "metadata": {},
   "outputs": [
    {
     "name": "stdout",
     "output_type": "stream",
     "text": [
      "[1 3 6]\n"
     ]
    }
   ],
   "source": [
    "## cumutative sum\n",
    "\n",
    "a= np.array([1,2,3])\n",
    "b= np.array([4,5,6])\n",
    "c= np.cumsum(a)\n",
    "print(c)"
   ]
  },
  {
   "cell_type": "code",
   "execution_count": 62,
   "id": "51047e31",
   "metadata": {},
   "outputs": [
    {
     "name": "stdout",
     "output_type": "stream",
     "text": [
      "12\n",
      "18\n"
     ]
    }
   ],
   "source": [
    "## Finding LCM (Lowest Common Multiple)\n",
    "n1= 4\n",
    "n2= 6\n",
    "lcm= np.lcm(n1,n2)\n",
    "print(lcm)\n",
    "\n",
    "## find the LCM of array\n",
    "arr = np.array([3, 6, 9])\n",
    "\n",
    "x = np.lcm.reduce(arr)\n",
    "\n",
    "print(x)"
   ]
  },
  {
   "cell_type": "code",
   "execution_count": 64,
   "id": "8605e69b",
   "metadata": {},
   "outputs": [
    {
     "name": "stdout",
     "output_type": "stream",
     "text": [
      "2\n",
      "4\n"
     ]
    }
   ],
   "source": [
    "## Finding GCD (Greatest Common Denominator\n",
    "\n",
    "n1=4\n",
    "n2=6\n",
    "gcd=np.gcd(n1,n2)\n",
    "print(gcd)\n",
    "\n",
    "## finding the GCD of array\n",
    "arr = np.array([20, 8, 32, 36, 16])\n",
    "\n",
    "x = np.gcd.reduce(arr)\n",
    "\n",
    "print(x)"
   ]
  },
  {
   "cell_type": "markdown",
   "id": "f0bb1439",
   "metadata": {},
   "source": [
    "# Trigonometric Functions"
   ]
  },
  {
   "cell_type": "code",
   "execution_count": 65,
   "id": "7f4994fc",
   "metadata": {},
   "outputs": [
    {
     "name": "stdout",
     "output_type": "stream",
     "text": [
      "[1.         0.8660254  0.70710678 0.58778525]\n"
     ]
    }
   ],
   "source": [
    "## finding sin value\n",
    "arr = np.array([np.pi/2, np.pi/3, np.pi/4, np.pi/5])\n",
    "\n",
    "x = np.sin(arr)\n",
    "\n",
    "print(x)"
   ]
  },
  {
   "cell_type": "code",
   "execution_count": 66,
   "id": "0fc07e0a",
   "metadata": {},
   "outputs": [
    {
     "name": "stdout",
     "output_type": "stream",
     "text": [
      "[1.57079633 3.14159265 4.71238898 6.28318531]\n"
     ]
    }
   ],
   "source": [
    "## Convert Degrees Into Radians\n",
    "\n",
    "arr = np.array([90, 180, 270, 360])\n",
    "x = np.deg2rad(arr)\n",
    "print(x)"
   ]
  },
  {
   "cell_type": "code",
   "execution_count": 67,
   "id": "bc40194d",
   "metadata": {},
   "outputs": [
    {
     "name": "stdout",
     "output_type": "stream",
     "text": [
      "[ 90. 180. 270. 360.]\n"
     ]
    }
   ],
   "source": [
    "##Radians to Degrees\n",
    "\n",
    "arr = np.array([np.pi/2, np.pi, 1.5*np.pi, 2*np.pi])\n",
    "x = np.rad2deg(arr)\n",
    "print(x)"
   ]
  },
  {
   "cell_type": "code",
   "execution_count": 68,
   "id": "9dbd2e29",
   "metadata": {},
   "outputs": [
    {
     "name": "stdout",
     "output_type": "stream",
     "text": [
      "0.5235987755982989\n"
     ]
    }
   ],
   "source": [
    "## Finding Angles\n",
    "x= np.arcsin(.5)\n",
    "print(x)"
   ]
  },
  {
   "cell_type": "code",
   "execution_count": 69,
   "id": "68a7e4af",
   "metadata": {},
   "outputs": [
    {
     "name": "stdout",
     "output_type": "stream",
     "text": [
      "5.830951894845301\n"
     ]
    }
   ],
   "source": [
    "## Hypotenues\n",
    "h=3\n",
    "b=5\n",
    "p=np.hypot(h,b)\n",
    "print(p)"
   ]
  },
  {
   "cell_type": "markdown",
   "id": "8f91356a",
   "metadata": {},
   "source": [
    "# NumPy Set Operations"
   ]
  },
  {
   "cell_type": "code",
   "execution_count": 70,
   "id": "2d94d6f8",
   "metadata": {},
   "outputs": [
    {
     "name": "stdout",
     "output_type": "stream",
     "text": [
      "[1 2 3 4 5 6 7]\n"
     ]
    }
   ],
   "source": [
    "## find the unique elements\n",
    "\n",
    "arr = np.array([1, 1, 1, 2, 3, 4, 5, 5, 6, 7])\n",
    "x= np.unique(arr)\n",
    "print(x)"
   ]
  },
  {
   "cell_type": "code",
   "execution_count": 74,
   "id": "b160035c",
   "metadata": {},
   "outputs": [
    {
     "name": "stdout",
     "output_type": "stream",
     "text": [
      "the union is \n",
      " [1 2 3 4 5 6]\n",
      "the intersection is \n",
      " []\n"
     ]
    }
   ],
   "source": [
    "##finding the union of two sets\n",
    "a= np.array([1,2,3])\n",
    "b= np.array([4,5,6])\n",
    "union= np.union1d(a,b)\n",
    "print(\"the union is \\n\",union)\n",
    "\n",
    "##finding the intersection\n",
    "intersection= np.intersect1d(a,b)\n",
    "print(\"the intersection is \\n\",intersection)\n",
    "\n"
   ]
  },
  {
   "cell_type": "code",
   "execution_count": 75,
   "id": "0d5caff9",
   "metadata": {},
   "outputs": [
    {
     "data": {
      "text/plain": [
       "'C:\\\\Users\\\\User'"
      ]
     },
     "execution_count": 75,
     "metadata": {},
     "output_type": "execute_result"
    }
   ],
   "source": [
    "pwd"
   ]
  },
  {
   "cell_type": "code",
   "execution_count": null,
   "id": "9ae2bd78",
   "metadata": {},
   "outputs": [],
   "source": []
  }
 ],
 "metadata": {
  "kernelspec": {
   "display_name": "Python 3 (ipykernel)",
   "language": "python",
   "name": "python3"
  },
  "language_info": {
   "codemirror_mode": {
    "name": "ipython",
    "version": 3
   },
   "file_extension": ".py",
   "mimetype": "text/x-python",
   "name": "python",
   "nbconvert_exporter": "python",
   "pygments_lexer": "ipython3",
   "version": "3.10.9"
  }
 },
 "nbformat": 4,
 "nbformat_minor": 5
}
