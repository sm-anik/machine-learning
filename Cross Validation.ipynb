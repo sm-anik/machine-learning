{
 "cells": [
  {
   "cell_type": "markdown",
   "id": "cf72693d",
   "metadata": {},
   "source": [
    "<h1 style=\"color:red;\">Cross Validation </h1>\n",
    "\n",
    "<span style=\"color:blue\"> Cross-validation </span>. is a model evaluation technique used to assess the performance and generalizability of a machine learning model. It involves splitting the data into multiple subsets, training the model on some subsets, and testing it on others. The results are averaged to provide a more reliable estimate of model performance.\n",
    "\n",
    "<h1 style=\"color:blue;\">Classification of cross validation </h1>\n",
    "\n",
    "\n",
    "- K-Fold\n",
    "- Stratified K-Fold\n",
    "- Leave-One-Out (LOO)\n",
    "- Leave-P-Out (LPO)\n",
    "- Shuffle Split\n"
   ]
  },
  {
   "cell_type": "code",
   "execution_count": 5,
   "id": "50d32264",
   "metadata": {},
   "outputs": [],
   "source": [
    "## import datasets\n",
    "\n",
    "from sklearn import datasets\n",
    "\n",
    "x,y = datasets.load_iris(return_X_y=True)\n",
    "\n"
   ]
  },
  {
   "cell_type": "markdown",
   "id": "4a6e70b9",
   "metadata": {},
   "source": [
    "# K-Fold"
   ]
  },
  {
   "cell_type": "code",
   "execution_count": 6,
   "id": "9b232030",
   "metadata": {},
   "outputs": [],
   "source": [
    "## import library \n",
    "\n",
    "from sklearn.tree import DecisionTreeClassifier\n",
    "from sklearn.model_selection import KFold, cross_val_score"
   ]
  },
  {
   "cell_type": "code",
   "execution_count": 7,
   "id": "039b0b25",
   "metadata": {},
   "outputs": [
    {
     "name": "stdout",
     "output_type": "stream",
     "text": [
      "Cross validation score:  [1.         1.         0.83333333 0.93333333 0.83333333]\n",
      "average cv score 0.9199999999999999\n",
      "number of cv used in average 5\n"
     ]
    }
   ],
   "source": [
    "clf = DecisionTreeClassifier( random_state = 19)\n",
    "k_folds = KFold(n_splits= 5)\n",
    "scores = cross_val_score( clf, x, y, cv = k_folds)\n",
    "\n",
    "## print the important measurment\n",
    "\n",
    "print(\"Cross validation score: \", scores)\n",
    "print(\"average cv score\", scores.mean())\n",
    "print(\"number of cv used in average\", len(scores))"
   ]
  },
  {
   "cell_type": "markdown",
   "id": "4daebe67",
   "metadata": {},
   "source": [
    "# Stratified K-Fold"
   ]
  },
  {
   "cell_type": "code",
   "execution_count": 9,
   "id": "2e3458e6",
   "metadata": {},
   "outputs": [],
   "source": [
    "from sklearn.model_selection import StratifiedKFold, cross_val_score"
   ]
  },
  {
   "cell_type": "code",
   "execution_count": 11,
   "id": "21c8ab56",
   "metadata": {},
   "outputs": [
    {
     "name": "stdout",
     "output_type": "stream",
     "text": [
      "Cross Validation Scores:  [0.96666667 0.96666667 0.9        0.96666667 1.        ]\n",
      "Average CV Score:  0.9600000000000002\n",
      "Number of CV Scores used in Average:  5\n"
     ]
    }
   ],
   "source": [
    "sk_fold = StratifiedKFold(n_splits = 5)\n",
    "\n",
    "scores = cross_val_score( clf, x,y, cv = sk_fold)\n",
    "\n",
    "print(\"Cross Validation Scores: \", scores)\n",
    "print(\"Average CV Score: \", scores.mean())\n",
    "print(\"Number of CV Scores used in Average: \", len(scores))"
   ]
  },
  {
   "cell_type": "markdown",
   "id": "d0c6f6ac",
   "metadata": {},
   "source": [
    "# Leave-One-Out (LOO)"
   ]
  },
  {
   "cell_type": "code",
   "execution_count": 12,
   "id": "d875ba8d",
   "metadata": {},
   "outputs": [],
   "source": [
    "from sklearn.model_selection import LeaveOneOut, cross_val_score"
   ]
  },
  {
   "cell_type": "code",
   "execution_count": 13,
   "id": "55a2451b",
   "metadata": {},
   "outputs": [
    {
     "name": "stdout",
     "output_type": "stream",
     "text": [
      "Cross Validation Scores:  [1. 1. 1. 1. 1. 1. 1. 1. 1. 1. 1. 1. 1. 1. 1. 1. 1. 1. 1. 1. 1. 1. 1. 1.\n",
      " 1. 1. 1. 1. 1. 1. 1. 1. 1. 1. 1. 1. 1. 1. 1. 1. 1. 1. 1. 1. 1. 1. 1. 1.\n",
      " 1. 1. 1. 1. 1. 1. 1. 1. 1. 1. 1. 1. 1. 1. 1. 1. 1. 1. 1. 1. 1. 1. 0. 1.\n",
      " 1. 1. 1. 1. 1. 0. 1. 1. 1. 1. 1. 0. 1. 1. 1. 1. 1. 1. 1. 1. 1. 1. 1. 1.\n",
      " 1. 1. 1. 1. 1. 1. 1. 1. 1. 1. 0. 1. 1. 1. 1. 1. 1. 1. 1. 1. 1. 1. 1. 0.\n",
      " 1. 1. 1. 1. 1. 1. 1. 1. 1. 0. 1. 1. 1. 0. 1. 1. 1. 1. 1. 1. 1. 1. 1. 1.\n",
      " 1. 1. 1. 1. 1. 1.]\n",
      "Average CV Score:  0.9533333333333334\n",
      "Number of CV Scores used in Average:  150\n"
     ]
    }
   ],
   "source": [
    "loo = LeaveOneOut()\n",
    "scores = cross_val_score ( clf , x , y , cv = loo )\n",
    "print(\"Cross Validation Scores: \", scores)\n",
    "print(\"Average CV Score: \", scores.mean())\n",
    "print(\"Number of CV Scores used in Average: \", len(scores))"
   ]
  },
  {
   "cell_type": "markdown",
   "id": "5e71ad78",
   "metadata": {},
   "source": [
    "# Leave-P-Out (LPO)"
   ]
  },
  {
   "cell_type": "code",
   "execution_count": 14,
   "id": "e5775a89",
   "metadata": {},
   "outputs": [],
   "source": [
    "from sklearn.model_selection import LeavePOut, cross_val_score"
   ]
  },
  {
   "cell_type": "code",
   "execution_count": 16,
   "id": "046ad141",
   "metadata": {},
   "outputs": [
    {
     "name": "stdout",
     "output_type": "stream",
     "text": [
      "Cross Validation Scores:  [1. 1. 1. ... 1. 1. 1.]\n",
      "Average CV Score:  0.9511856823266219\n",
      "Number of CV Scores used in Average:  11175\n"
     ]
    }
   ],
   "source": [
    "lpo = LeavePOut(p=2)\n",
    "scores = cross_val_score ( clf , x , y , cv = lpo)\n",
    "print(\"Cross Validation Scores: \", scores)\n",
    "print(\"Average CV Score: \", scores.mean())\n",
    "print(\"Number of CV Scores used in Average: \", len(scores))"
   ]
  },
  {
   "cell_type": "markdown",
   "id": "574bcabe",
   "metadata": {},
   "source": [
    "# Shuffle Split"
   ]
  },
  {
   "cell_type": "code",
   "execution_count": 17,
   "id": "8bbac721",
   "metadata": {},
   "outputs": [],
   "source": [
    "from sklearn.model_selection import ShuffleSplit, cross_val_score\n"
   ]
  },
  {
   "cell_type": "code",
   "execution_count": 18,
   "id": "a399ae89",
   "metadata": {},
   "outputs": [
    {
     "name": "stdout",
     "output_type": "stream",
     "text": [
      "Cross Validation Scores:  [0.95555556 0.95555556 0.95555556 0.93333333 0.91111111]\n",
      "Average CV Score:  0.9422222222222223\n",
      "Number of CV Scores used in Average:  5\n"
     ]
    }
   ],
   "source": [
    "ss= ShuffleSplit( train_size=0.6, test_size=0.3, n_splits = 5 )\n",
    "scores = cross_val_score( clf ,x ,y , cv = ss)\n",
    "print(\"Cross Validation Scores: \", scores)\n",
    "print(\"Average CV Score: \", scores.mean())\n",
    "print(\"Number of CV Scores used in Average: \", len(scores))\n"
   ]
  },
  {
   "cell_type": "code",
   "execution_count": null,
   "id": "9ce2aa88",
   "metadata": {},
   "outputs": [],
   "source": []
  }
 ],
 "metadata": {
  "kernelspec": {
   "display_name": "Python 3 (ipykernel)",
   "language": "python",
   "name": "python3"
  },
  "language_info": {
   "codemirror_mode": {
    "name": "ipython",
    "version": 3
   },
   "file_extension": ".py",
   "mimetype": "text/x-python",
   "name": "python",
   "nbconvert_exporter": "python",
   "pygments_lexer": "ipython3",
   "version": "3.10.9"
  }
 },
 "nbformat": 4,
 "nbformat_minor": 5
}
